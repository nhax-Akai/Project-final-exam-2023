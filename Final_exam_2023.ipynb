{
  "cells": [
    {
      "cell_type": "markdown",
      "metadata": {
        "id": "ogsQDkgbRC3k"
      },
      "source": [
        "# Bài toán: Dự đoán khả năng sống sót của hành khách trên tàu titanic\n",
        "MSSV và Họ tên của các thành viên trong nhóm:\n",
        "* 52000376 Phạm Phong Nhã\n",
        "* 52000827 Biện Ngọc Cang\n",
        "* 51900836 Lâm Minh Thông\n"
      ]
    },
    {
      "cell_type": "markdown",
      "metadata": {
        "id": "sru87ChOlDTb"
      },
      "source": [
        "#Khai báo thư viện"
      ]
    },
    {
      "cell_type": "code",
      "execution_count": 1,
      "metadata": {
        "id": "iaM7gl09Wo3i"
      },
      "outputs": [],
      "source": [
        "import numpy as np\n",
        "import pandas as pd\n",
        "import matplotlib.pyplot as plt\n",
        "import seaborn as sns\n",
        "from sklearn.feature_selection import RFE\n",
        "from sklearn.linear_model import LogisticRegression\n",
        "from sklearn.model_selection import train_test_split\n",
        "from sklearn.naive_bayes import GaussianNB\n",
        "from sklearn.metrics import accuracy_score\n",
        "from sklearn.linear_model import LinearRegression\n",
        "from sklearn.metrics import mean_squared_error\n",
        "from sklearn.tree import DecisionTreeClassifier\n",
        "from sklearn.neighbors import KNeighborsClassifier\n",
        "from sklearn import svm\n",
        "from sklearn.metrics import classification_report\n",
        "from sklearn.ensemble import RandomForestClassifier\n",
        "from sklearn.ensemble import AdaBoostClassifier\n",
        "from sklearn.ensemble import GradientBoostingClassifier"
      ]
    },
    {
      "cell_type": "markdown",
      "metadata": {
        "id": "1uO5DRq5K74F"
      },
      "source": [
        "#Nhập dữ liệu"
      ]
    },
    {
      "cell_type": "code",
      "execution_count": 2,
      "metadata": {
        "id": "XE8AtRmjabSS"
      },
      "outputs": [],
      "source": [
        "#Nhập dữ liệu\n",
        "df = pd.read_csv('titanic.csv')"
      ]
    },
    {
      "cell_type": "code",
      "execution_count": 3,
      "metadata": {
        "colab": {
          "base_uri": "https://localhost:8080/",
          "height": 258
        },
        "id": "8MfcwTHradAL",
        "outputId": "5274590e-91a6-4775-a2b2-c65112aac3bd"
      },
      "outputs": [
        {
          "data": {
            "text/html": [
              "\n",
              "  <div id=\"df-53ec8bc7-182d-4225-883c-56f900d0bb14\" class=\"colab-df-container\">\n",
              "    <div>\n",
              "<style scoped>\n",
              "    .dataframe tbody tr th:only-of-type {\n",
              "        vertical-align: middle;\n",
              "    }\n",
              "\n",
              "    .dataframe tbody tr th {\n",
              "        vertical-align: top;\n",
              "    }\n",
              "\n",
              "    .dataframe thead th {\n",
              "        text-align: right;\n",
              "    }\n",
              "</style>\n",
              "<table border=\"1\" class=\"dataframe\">\n",
              "  <thead>\n",
              "    <tr style=\"text-align: right;\">\n",
              "      <th></th>\n",
              "      <th>PassengerId</th>\n",
              "      <th>Survived</th>\n",
              "      <th>Pclass</th>\n",
              "      <th>Name</th>\n",
              "      <th>Sex</th>\n",
              "      <th>Age</th>\n",
              "      <th>SibSp</th>\n",
              "      <th>Parch</th>\n",
              "      <th>Ticket</th>\n",
              "      <th>Fare</th>\n",
              "      <th>Cabin</th>\n",
              "      <th>Embarked</th>\n",
              "    </tr>\n",
              "  </thead>\n",
              "  <tbody>\n",
              "    <tr>\n",
              "      <th>0</th>\n",
              "      <td>1</td>\n",
              "      <td>0</td>\n",
              "      <td>3</td>\n",
              "      <td>Braund, Mr. Owen Harris</td>\n",
              "      <td>male</td>\n",
              "      <td>22.0</td>\n",
              "      <td>1</td>\n",
              "      <td>0</td>\n",
              "      <td>A/5 21171</td>\n",
              "      <td>7.2500</td>\n",
              "      <td>NaN</td>\n",
              "      <td>S</td>\n",
              "    </tr>\n",
              "    <tr>\n",
              "      <th>1</th>\n",
              "      <td>2</td>\n",
              "      <td>1</td>\n",
              "      <td>1</td>\n",
              "      <td>Cumings, Mrs. John Bradley (Florence Briggs Th...</td>\n",
              "      <td>female</td>\n",
              "      <td>38.0</td>\n",
              "      <td>1</td>\n",
              "      <td>0</td>\n",
              "      <td>PC 17599</td>\n",
              "      <td>71.2833</td>\n",
              "      <td>C85</td>\n",
              "      <td>C</td>\n",
              "    </tr>\n",
              "    <tr>\n",
              "      <th>2</th>\n",
              "      <td>3</td>\n",
              "      <td>1</td>\n",
              "      <td>3</td>\n",
              "      <td>Heikkinen, Miss. Laina</td>\n",
              "      <td>female</td>\n",
              "      <td>26.0</td>\n",
              "      <td>0</td>\n",
              "      <td>0</td>\n",
              "      <td>STON/O2. 3101282</td>\n",
              "      <td>7.9250</td>\n",
              "      <td>NaN</td>\n",
              "      <td>S</td>\n",
              "    </tr>\n",
              "    <tr>\n",
              "      <th>3</th>\n",
              "      <td>4</td>\n",
              "      <td>1</td>\n",
              "      <td>1</td>\n",
              "      <td>Futrelle, Mrs. Jacques Heath (Lily May Peel)</td>\n",
              "      <td>female</td>\n",
              "      <td>35.0</td>\n",
              "      <td>1</td>\n",
              "      <td>0</td>\n",
              "      <td>113803</td>\n",
              "      <td>53.1000</td>\n",
              "      <td>C123</td>\n",
              "      <td>S</td>\n",
              "    </tr>\n",
              "    <tr>\n",
              "      <th>4</th>\n",
              "      <td>5</td>\n",
              "      <td>0</td>\n",
              "      <td>3</td>\n",
              "      <td>Allen, Mr. William Henry</td>\n",
              "      <td>male</td>\n",
              "      <td>35.0</td>\n",
              "      <td>0</td>\n",
              "      <td>0</td>\n",
              "      <td>373450</td>\n",
              "      <td>8.0500</td>\n",
              "      <td>NaN</td>\n",
              "      <td>S</td>\n",
              "    </tr>\n",
              "  </tbody>\n",
              "</table>\n",
              "</div>\n",
              "    <div class=\"colab-df-buttons\">\n",
              "\n",
              "  <div class=\"colab-df-container\">\n",
              "    <button class=\"colab-df-convert\" onclick=\"convertToInteractive('df-53ec8bc7-182d-4225-883c-56f900d0bb14')\"\n",
              "            title=\"Convert this dataframe to an interactive table.\"\n",
              "            style=\"display:none;\">\n",
              "\n",
              "  <svg xmlns=\"http://www.w3.org/2000/svg\" height=\"24px\" viewBox=\"0 -960 960 960\">\n",
              "    <path d=\"M120-120v-720h720v720H120Zm60-500h600v-160H180v160Zm220 220h160v-160H400v160Zm0 220h160v-160H400v160ZM180-400h160v-160H180v160Zm440 0h160v-160H620v160ZM180-180h160v-160H180v160Zm440 0h160v-160H620v160Z\"/>\n",
              "  </svg>\n",
              "    </button>\n",
              "\n",
              "  <style>\n",
              "    .colab-df-container {\n",
              "      display:flex;\n",
              "      gap: 12px;\n",
              "    }\n",
              "\n",
              "    .colab-df-convert {\n",
              "      background-color: #E8F0FE;\n",
              "      border: none;\n",
              "      border-radius: 50%;\n",
              "      cursor: pointer;\n",
              "      display: none;\n",
              "      fill: #1967D2;\n",
              "      height: 32px;\n",
              "      padding: 0 0 0 0;\n",
              "      width: 32px;\n",
              "    }\n",
              "\n",
              "    .colab-df-convert:hover {\n",
              "      background-color: #E2EBFA;\n",
              "      box-shadow: 0px 1px 2px rgba(60, 64, 67, 0.3), 0px 1px 3px 1px rgba(60, 64, 67, 0.15);\n",
              "      fill: #174EA6;\n",
              "    }\n",
              "\n",
              "    .colab-df-buttons div {\n",
              "      margin-bottom: 4px;\n",
              "    }\n",
              "\n",
              "    [theme=dark] .colab-df-convert {\n",
              "      background-color: #3B4455;\n",
              "      fill: #D2E3FC;\n",
              "    }\n",
              "\n",
              "    [theme=dark] .colab-df-convert:hover {\n",
              "      background-color: #434B5C;\n",
              "      box-shadow: 0px 1px 3px 1px rgba(0, 0, 0, 0.15);\n",
              "      filter: drop-shadow(0px 1px 2px rgba(0, 0, 0, 0.3));\n",
              "      fill: #FFFFFF;\n",
              "    }\n",
              "  </style>\n",
              "\n",
              "    <script>\n",
              "      const buttonEl =\n",
              "        document.querySelector('#df-53ec8bc7-182d-4225-883c-56f900d0bb14 button.colab-df-convert');\n",
              "      buttonEl.style.display =\n",
              "        google.colab.kernel.accessAllowed ? 'block' : 'none';\n",
              "\n",
              "      async function convertToInteractive(key) {\n",
              "        const element = document.querySelector('#df-53ec8bc7-182d-4225-883c-56f900d0bb14');\n",
              "        const dataTable =\n",
              "          await google.colab.kernel.invokeFunction('convertToInteractive',\n",
              "                                                    [key], {});\n",
              "        if (!dataTable) return;\n",
              "\n",
              "        const docLinkHtml = 'Like what you see? Visit the ' +\n",
              "          '<a target=\"_blank\" href=https://colab.research.google.com/notebooks/data_table.ipynb>data table notebook</a>'\n",
              "          + ' to learn more about interactive tables.';\n",
              "        element.innerHTML = '';\n",
              "        dataTable['output_type'] = 'display_data';\n",
              "        await google.colab.output.renderOutput(dataTable, element);\n",
              "        const docLink = document.createElement('div');\n",
              "        docLink.innerHTML = docLinkHtml;\n",
              "        element.appendChild(docLink);\n",
              "      }\n",
              "    </script>\n",
              "  </div>\n",
              "\n",
              "\n",
              "<div id=\"df-8049757d-780b-454a-89dd-c040a9364dd9\">\n",
              "  <button class=\"colab-df-quickchart\" onclick=\"quickchart('df-8049757d-780b-454a-89dd-c040a9364dd9')\"\n",
              "            title=\"Suggest charts\"\n",
              "            style=\"display:none;\">\n",
              "\n",
              "<svg xmlns=\"http://www.w3.org/2000/svg\" height=\"24px\"viewBox=\"0 0 24 24\"\n",
              "     width=\"24px\">\n",
              "    <g>\n",
              "        <path d=\"M19 3H5c-1.1 0-2 .9-2 2v14c0 1.1.9 2 2 2h14c1.1 0 2-.9 2-2V5c0-1.1-.9-2-2-2zM9 17H7v-7h2v7zm4 0h-2V7h2v10zm4 0h-2v-4h2v4z\"/>\n",
              "    </g>\n",
              "</svg>\n",
              "  </button>\n",
              "\n",
              "<style>\n",
              "  .colab-df-quickchart {\n",
              "      --bg-color: #E8F0FE;\n",
              "      --fill-color: #1967D2;\n",
              "      --hover-bg-color: #E2EBFA;\n",
              "      --hover-fill-color: #174EA6;\n",
              "      --disabled-fill-color: #AAA;\n",
              "      --disabled-bg-color: #DDD;\n",
              "  }\n",
              "\n",
              "  [theme=dark] .colab-df-quickchart {\n",
              "      --bg-color: #3B4455;\n",
              "      --fill-color: #D2E3FC;\n",
              "      --hover-bg-color: #434B5C;\n",
              "      --hover-fill-color: #FFFFFF;\n",
              "      --disabled-bg-color: #3B4455;\n",
              "      --disabled-fill-color: #666;\n",
              "  }\n",
              "\n",
              "  .colab-df-quickchart {\n",
              "    background-color: var(--bg-color);\n",
              "    border: none;\n",
              "    border-radius: 50%;\n",
              "    cursor: pointer;\n",
              "    display: none;\n",
              "    fill: var(--fill-color);\n",
              "    height: 32px;\n",
              "    padding: 0;\n",
              "    width: 32px;\n",
              "  }\n",
              "\n",
              "  .colab-df-quickchart:hover {\n",
              "    background-color: var(--hover-bg-color);\n",
              "    box-shadow: 0 1px 2px rgba(60, 64, 67, 0.3), 0 1px 3px 1px rgba(60, 64, 67, 0.15);\n",
              "    fill: var(--button-hover-fill-color);\n",
              "  }\n",
              "\n",
              "  .colab-df-quickchart-complete:disabled,\n",
              "  .colab-df-quickchart-complete:disabled:hover {\n",
              "    background-color: var(--disabled-bg-color);\n",
              "    fill: var(--disabled-fill-color);\n",
              "    box-shadow: none;\n",
              "  }\n",
              "\n",
              "  .colab-df-spinner {\n",
              "    border: 2px solid var(--fill-color);\n",
              "    border-color: transparent;\n",
              "    border-bottom-color: var(--fill-color);\n",
              "    animation:\n",
              "      spin 1s steps(1) infinite;\n",
              "  }\n",
              "\n",
              "  @keyframes spin {\n",
              "    0% {\n",
              "      border-color: transparent;\n",
              "      border-bottom-color: var(--fill-color);\n",
              "      border-left-color: var(--fill-color);\n",
              "    }\n",
              "    20% {\n",
              "      border-color: transparent;\n",
              "      border-left-color: var(--fill-color);\n",
              "      border-top-color: var(--fill-color);\n",
              "    }\n",
              "    30% {\n",
              "      border-color: transparent;\n",
              "      border-left-color: var(--fill-color);\n",
              "      border-top-color: var(--fill-color);\n",
              "      border-right-color: var(--fill-color);\n",
              "    }\n",
              "    40% {\n",
              "      border-color: transparent;\n",
              "      border-right-color: var(--fill-color);\n",
              "      border-top-color: var(--fill-color);\n",
              "    }\n",
              "    60% {\n",
              "      border-color: transparent;\n",
              "      border-right-color: var(--fill-color);\n",
              "    }\n",
              "    80% {\n",
              "      border-color: transparent;\n",
              "      border-right-color: var(--fill-color);\n",
              "      border-bottom-color: var(--fill-color);\n",
              "    }\n",
              "    90% {\n",
              "      border-color: transparent;\n",
              "      border-bottom-color: var(--fill-color);\n",
              "    }\n",
              "  }\n",
              "</style>\n",
              "\n",
              "  <script>\n",
              "    async function quickchart(key) {\n",
              "      const quickchartButtonEl =\n",
              "        document.querySelector('#' + key + ' button');\n",
              "      quickchartButtonEl.disabled = true;  // To prevent multiple clicks.\n",
              "      quickchartButtonEl.classList.add('colab-df-spinner');\n",
              "      try {\n",
              "        const charts = await google.colab.kernel.invokeFunction(\n",
              "            'suggestCharts', [key], {});\n",
              "      } catch (error) {\n",
              "        console.error('Error during call to suggestCharts:', error);\n",
              "      }\n",
              "      quickchartButtonEl.classList.remove('colab-df-spinner');\n",
              "      quickchartButtonEl.classList.add('colab-df-quickchart-complete');\n",
              "    }\n",
              "    (() => {\n",
              "      let quickchartButtonEl =\n",
              "        document.querySelector('#df-8049757d-780b-454a-89dd-c040a9364dd9 button');\n",
              "      quickchartButtonEl.style.display =\n",
              "        google.colab.kernel.accessAllowed ? 'block' : 'none';\n",
              "    })();\n",
              "  </script>\n",
              "</div>\n",
              "\n",
              "    </div>\n",
              "  </div>\n"
            ],
            "text/plain": [
              "   PassengerId  Survived  Pclass  \\\n",
              "0            1         0       3   \n",
              "1            2         1       1   \n",
              "2            3         1       3   \n",
              "3            4         1       1   \n",
              "4            5         0       3   \n",
              "\n",
              "                                                Name     Sex   Age  SibSp  \\\n",
              "0                            Braund, Mr. Owen Harris    male  22.0      1   \n",
              "1  Cumings, Mrs. John Bradley (Florence Briggs Th...  female  38.0      1   \n",
              "2                             Heikkinen, Miss. Laina  female  26.0      0   \n",
              "3       Futrelle, Mrs. Jacques Heath (Lily May Peel)  female  35.0      1   \n",
              "4                           Allen, Mr. William Henry    male  35.0      0   \n",
              "\n",
              "   Parch            Ticket     Fare Cabin Embarked  \n",
              "0      0         A/5 21171   7.2500   NaN        S  \n",
              "1      0          PC 17599  71.2833   C85        C  \n",
              "2      0  STON/O2. 3101282   7.9250   NaN        S  \n",
              "3      0            113803  53.1000  C123        S  \n",
              "4      0            373450   8.0500   NaN        S  "
            ]
          },
          "execution_count": 3,
          "metadata": {},
          "output_type": "execute_result"
        }
      ],
      "source": [
        "df.head()"
      ]
    },
    {
      "cell_type": "markdown",
      "metadata": {
        "id": "V6RarL6nEz99"
      },
      "source": [
        "# Phân tích thống kê dữ liệu"
      ]
    },
    {
      "cell_type": "code",
      "execution_count": 4,
      "metadata": {
        "colab": {
          "base_uri": "https://localhost:8080/",
          "height": 664
        },
        "id": "qfff4_OrE0kE",
        "outputId": "524e7de1-e665-42e9-8867-06203e756abf"
      },
      "outputs": [
        {
          "name": "stdout",
          "output_type": "stream",
          "text": [
            "DATA INFO:\n",
            "<class 'pandas.core.frame.DataFrame'>\n",
            "RangeIndex: 891 entries, 0 to 890\n",
            "Data columns (total 12 columns):\n",
            " #   Column       Non-Null Count  Dtype  \n",
            "---  ------       --------------  -----  \n",
            " 0   PassengerId  891 non-null    int64  \n",
            " 1   Survived     891 non-null    int64  \n",
            " 2   Pclass       891 non-null    int64  \n",
            " 3   Name         891 non-null    object \n",
            " 4   Sex          891 non-null    object \n",
            " 5   Age          714 non-null    float64\n",
            " 6   SibSp        891 non-null    int64  \n",
            " 7   Parch        891 non-null    int64  \n",
            " 8   Ticket       891 non-null    object \n",
            " 9   Fare         891 non-null    float64\n",
            " 10  Cabin        204 non-null    object \n",
            " 11  Embarked     889 non-null    object \n",
            "dtypes: float64(2), int64(5), object(5)\n",
            "memory usage: 83.7+ KB\n",
            "DESCRIBE DATA:\n"
          ]
        },
        {
          "data": {
            "text/html": [
              "\n",
              "  <div id=\"df-adb414e6-28a6-4f2b-9a03-372fc609272c\" class=\"colab-df-container\">\n",
              "    <div>\n",
              "<style scoped>\n",
              "    .dataframe tbody tr th:only-of-type {\n",
              "        vertical-align: middle;\n",
              "    }\n",
              "\n",
              "    .dataframe tbody tr th {\n",
              "        vertical-align: top;\n",
              "    }\n",
              "\n",
              "    .dataframe thead th {\n",
              "        text-align: right;\n",
              "    }\n",
              "</style>\n",
              "<table border=\"1\" class=\"dataframe\">\n",
              "  <thead>\n",
              "    <tr style=\"text-align: right;\">\n",
              "      <th></th>\n",
              "      <th>PassengerId</th>\n",
              "      <th>Survived</th>\n",
              "      <th>Pclass</th>\n",
              "      <th>Age</th>\n",
              "      <th>SibSp</th>\n",
              "      <th>Parch</th>\n",
              "      <th>Fare</th>\n",
              "    </tr>\n",
              "  </thead>\n",
              "  <tbody>\n",
              "    <tr>\n",
              "      <th>count</th>\n",
              "      <td>891.000000</td>\n",
              "      <td>891.000000</td>\n",
              "      <td>891.000000</td>\n",
              "      <td>714.000000</td>\n",
              "      <td>891.000000</td>\n",
              "      <td>891.000000</td>\n",
              "      <td>891.000000</td>\n",
              "    </tr>\n",
              "    <tr>\n",
              "      <th>mean</th>\n",
              "      <td>446.000000</td>\n",
              "      <td>0.383838</td>\n",
              "      <td>2.308642</td>\n",
              "      <td>29.699118</td>\n",
              "      <td>0.523008</td>\n",
              "      <td>0.381594</td>\n",
              "      <td>32.204208</td>\n",
              "    </tr>\n",
              "    <tr>\n",
              "      <th>std</th>\n",
              "      <td>257.353842</td>\n",
              "      <td>0.486592</td>\n",
              "      <td>0.836071</td>\n",
              "      <td>14.526497</td>\n",
              "      <td>1.102743</td>\n",
              "      <td>0.806057</td>\n",
              "      <td>49.693429</td>\n",
              "    </tr>\n",
              "    <tr>\n",
              "      <th>min</th>\n",
              "      <td>1.000000</td>\n",
              "      <td>0.000000</td>\n",
              "      <td>1.000000</td>\n",
              "      <td>0.420000</td>\n",
              "      <td>0.000000</td>\n",
              "      <td>0.000000</td>\n",
              "      <td>0.000000</td>\n",
              "    </tr>\n",
              "    <tr>\n",
              "      <th>25%</th>\n",
              "      <td>223.500000</td>\n",
              "      <td>0.000000</td>\n",
              "      <td>2.000000</td>\n",
              "      <td>20.125000</td>\n",
              "      <td>0.000000</td>\n",
              "      <td>0.000000</td>\n",
              "      <td>7.910400</td>\n",
              "    </tr>\n",
              "    <tr>\n",
              "      <th>50%</th>\n",
              "      <td>446.000000</td>\n",
              "      <td>0.000000</td>\n",
              "      <td>3.000000</td>\n",
              "      <td>28.000000</td>\n",
              "      <td>0.000000</td>\n",
              "      <td>0.000000</td>\n",
              "      <td>14.454200</td>\n",
              "    </tr>\n",
              "    <tr>\n",
              "      <th>75%</th>\n",
              "      <td>668.500000</td>\n",
              "      <td>1.000000</td>\n",
              "      <td>3.000000</td>\n",
              "      <td>38.000000</td>\n",
              "      <td>1.000000</td>\n",
              "      <td>0.000000</td>\n",
              "      <td>31.000000</td>\n",
              "    </tr>\n",
              "    <tr>\n",
              "      <th>max</th>\n",
              "      <td>891.000000</td>\n",
              "      <td>1.000000</td>\n",
              "      <td>3.000000</td>\n",
              "      <td>80.000000</td>\n",
              "      <td>8.000000</td>\n",
              "      <td>6.000000</td>\n",
              "      <td>512.329200</td>\n",
              "    </tr>\n",
              "  </tbody>\n",
              "</table>\n",
              "</div>\n",
              "    <div class=\"colab-df-buttons\">\n",
              "\n",
              "  <div class=\"colab-df-container\">\n",
              "    <button class=\"colab-df-convert\" onclick=\"convertToInteractive('df-adb414e6-28a6-4f2b-9a03-372fc609272c')\"\n",
              "            title=\"Convert this dataframe to an interactive table.\"\n",
              "            style=\"display:none;\">\n",
              "\n",
              "  <svg xmlns=\"http://www.w3.org/2000/svg\" height=\"24px\" viewBox=\"0 -960 960 960\">\n",
              "    <path d=\"M120-120v-720h720v720H120Zm60-500h600v-160H180v160Zm220 220h160v-160H400v160Zm0 220h160v-160H400v160ZM180-400h160v-160H180v160Zm440 0h160v-160H620v160ZM180-180h160v-160H180v160Zm440 0h160v-160H620v160Z\"/>\n",
              "  </svg>\n",
              "    </button>\n",
              "\n",
              "  <style>\n",
              "    .colab-df-container {\n",
              "      display:flex;\n",
              "      gap: 12px;\n",
              "    }\n",
              "\n",
              "    .colab-df-convert {\n",
              "      background-color: #E8F0FE;\n",
              "      border: none;\n",
              "      border-radius: 50%;\n",
              "      cursor: pointer;\n",
              "      display: none;\n",
              "      fill: #1967D2;\n",
              "      height: 32px;\n",
              "      padding: 0 0 0 0;\n",
              "      width: 32px;\n",
              "    }\n",
              "\n",
              "    .colab-df-convert:hover {\n",
              "      background-color: #E2EBFA;\n",
              "      box-shadow: 0px 1px 2px rgba(60, 64, 67, 0.3), 0px 1px 3px 1px rgba(60, 64, 67, 0.15);\n",
              "      fill: #174EA6;\n",
              "    }\n",
              "\n",
              "    .colab-df-buttons div {\n",
              "      margin-bottom: 4px;\n",
              "    }\n",
              "\n",
              "    [theme=dark] .colab-df-convert {\n",
              "      background-color: #3B4455;\n",
              "      fill: #D2E3FC;\n",
              "    }\n",
              "\n",
              "    [theme=dark] .colab-df-convert:hover {\n",
              "      background-color: #434B5C;\n",
              "      box-shadow: 0px 1px 3px 1px rgba(0, 0, 0, 0.15);\n",
              "      filter: drop-shadow(0px 1px 2px rgba(0, 0, 0, 0.3));\n",
              "      fill: #FFFFFF;\n",
              "    }\n",
              "  </style>\n",
              "\n",
              "    <script>\n",
              "      const buttonEl =\n",
              "        document.querySelector('#df-adb414e6-28a6-4f2b-9a03-372fc609272c button.colab-df-convert');\n",
              "      buttonEl.style.display =\n",
              "        google.colab.kernel.accessAllowed ? 'block' : 'none';\n",
              "\n",
              "      async function convertToInteractive(key) {\n",
              "        const element = document.querySelector('#df-adb414e6-28a6-4f2b-9a03-372fc609272c');\n",
              "        const dataTable =\n",
              "          await google.colab.kernel.invokeFunction('convertToInteractive',\n",
              "                                                    [key], {});\n",
              "        if (!dataTable) return;\n",
              "\n",
              "        const docLinkHtml = 'Like what you see? Visit the ' +\n",
              "          '<a target=\"_blank\" href=https://colab.research.google.com/notebooks/data_table.ipynb>data table notebook</a>'\n",
              "          + ' to learn more about interactive tables.';\n",
              "        element.innerHTML = '';\n",
              "        dataTable['output_type'] = 'display_data';\n",
              "        await google.colab.output.renderOutput(dataTable, element);\n",
              "        const docLink = document.createElement('div');\n",
              "        docLink.innerHTML = docLinkHtml;\n",
              "        element.appendChild(docLink);\n",
              "      }\n",
              "    </script>\n",
              "  </div>\n",
              "\n",
              "\n",
              "<div id=\"df-0a0d79e9-f98c-4a1a-8b87-0d9423f0eb81\">\n",
              "  <button class=\"colab-df-quickchart\" onclick=\"quickchart('df-0a0d79e9-f98c-4a1a-8b87-0d9423f0eb81')\"\n",
              "            title=\"Suggest charts\"\n",
              "            style=\"display:none;\">\n",
              "\n",
              "<svg xmlns=\"http://www.w3.org/2000/svg\" height=\"24px\"viewBox=\"0 0 24 24\"\n",
              "     width=\"24px\">\n",
              "    <g>\n",
              "        <path d=\"M19 3H5c-1.1 0-2 .9-2 2v14c0 1.1.9 2 2 2h14c1.1 0 2-.9 2-2V5c0-1.1-.9-2-2-2zM9 17H7v-7h2v7zm4 0h-2V7h2v10zm4 0h-2v-4h2v4z\"/>\n",
              "    </g>\n",
              "</svg>\n",
              "  </button>\n",
              "\n",
              "<style>\n",
              "  .colab-df-quickchart {\n",
              "      --bg-color: #E8F0FE;\n",
              "      --fill-color: #1967D2;\n",
              "      --hover-bg-color: #E2EBFA;\n",
              "      --hover-fill-color: #174EA6;\n",
              "      --disabled-fill-color: #AAA;\n",
              "      --disabled-bg-color: #DDD;\n",
              "  }\n",
              "\n",
              "  [theme=dark] .colab-df-quickchart {\n",
              "      --bg-color: #3B4455;\n",
              "      --fill-color: #D2E3FC;\n",
              "      --hover-bg-color: #434B5C;\n",
              "      --hover-fill-color: #FFFFFF;\n",
              "      --disabled-bg-color: #3B4455;\n",
              "      --disabled-fill-color: #666;\n",
              "  }\n",
              "\n",
              "  .colab-df-quickchart {\n",
              "    background-color: var(--bg-color);\n",
              "    border: none;\n",
              "    border-radius: 50%;\n",
              "    cursor: pointer;\n",
              "    display: none;\n",
              "    fill: var(--fill-color);\n",
              "    height: 32px;\n",
              "    padding: 0;\n",
              "    width: 32px;\n",
              "  }\n",
              "\n",
              "  .colab-df-quickchart:hover {\n",
              "    background-color: var(--hover-bg-color);\n",
              "    box-shadow: 0 1px 2px rgba(60, 64, 67, 0.3), 0 1px 3px 1px rgba(60, 64, 67, 0.15);\n",
              "    fill: var(--button-hover-fill-color);\n",
              "  }\n",
              "\n",
              "  .colab-df-quickchart-complete:disabled,\n",
              "  .colab-df-quickchart-complete:disabled:hover {\n",
              "    background-color: var(--disabled-bg-color);\n",
              "    fill: var(--disabled-fill-color);\n",
              "    box-shadow: none;\n",
              "  }\n",
              "\n",
              "  .colab-df-spinner {\n",
              "    border: 2px solid var(--fill-color);\n",
              "    border-color: transparent;\n",
              "    border-bottom-color: var(--fill-color);\n",
              "    animation:\n",
              "      spin 1s steps(1) infinite;\n",
              "  }\n",
              "\n",
              "  @keyframes spin {\n",
              "    0% {\n",
              "      border-color: transparent;\n",
              "      border-bottom-color: var(--fill-color);\n",
              "      border-left-color: var(--fill-color);\n",
              "    }\n",
              "    20% {\n",
              "      border-color: transparent;\n",
              "      border-left-color: var(--fill-color);\n",
              "      border-top-color: var(--fill-color);\n",
              "    }\n",
              "    30% {\n",
              "      border-color: transparent;\n",
              "      border-left-color: var(--fill-color);\n",
              "      border-top-color: var(--fill-color);\n",
              "      border-right-color: var(--fill-color);\n",
              "    }\n",
              "    40% {\n",
              "      border-color: transparent;\n",
              "      border-right-color: var(--fill-color);\n",
              "      border-top-color: var(--fill-color);\n",
              "    }\n",
              "    60% {\n",
              "      border-color: transparent;\n",
              "      border-right-color: var(--fill-color);\n",
              "    }\n",
              "    80% {\n",
              "      border-color: transparent;\n",
              "      border-right-color: var(--fill-color);\n",
              "      border-bottom-color: var(--fill-color);\n",
              "    }\n",
              "    90% {\n",
              "      border-color: transparent;\n",
              "      border-bottom-color: var(--fill-color);\n",
              "    }\n",
              "  }\n",
              "</style>\n",
              "\n",
              "  <script>\n",
              "    async function quickchart(key) {\n",
              "      const quickchartButtonEl =\n",
              "        document.querySelector('#' + key + ' button');\n",
              "      quickchartButtonEl.disabled = true;  // To prevent multiple clicks.\n",
              "      quickchartButtonEl.classList.add('colab-df-spinner');\n",
              "      try {\n",
              "        const charts = await google.colab.kernel.invokeFunction(\n",
              "            'suggestCharts', [key], {});\n",
              "      } catch (error) {\n",
              "        console.error('Error during call to suggestCharts:', error);\n",
              "      }\n",
              "      quickchartButtonEl.classList.remove('colab-df-spinner');\n",
              "      quickchartButtonEl.classList.add('colab-df-quickchart-complete');\n",
              "    }\n",
              "    (() => {\n",
              "      let quickchartButtonEl =\n",
              "        document.querySelector('#df-0a0d79e9-f98c-4a1a-8b87-0d9423f0eb81 button');\n",
              "      quickchartButtonEl.style.display =\n",
              "        google.colab.kernel.accessAllowed ? 'block' : 'none';\n",
              "    })();\n",
              "  </script>\n",
              "</div>\n",
              "\n",
              "    </div>\n",
              "  </div>\n"
            ],
            "text/plain": [
              "       PassengerId    Survived      Pclass         Age       SibSp  \\\n",
              "count   891.000000  891.000000  891.000000  714.000000  891.000000   \n",
              "mean    446.000000    0.383838    2.308642   29.699118    0.523008   \n",
              "std     257.353842    0.486592    0.836071   14.526497    1.102743   \n",
              "min       1.000000    0.000000    1.000000    0.420000    0.000000   \n",
              "25%     223.500000    0.000000    2.000000   20.125000    0.000000   \n",
              "50%     446.000000    0.000000    3.000000   28.000000    0.000000   \n",
              "75%     668.500000    1.000000    3.000000   38.000000    1.000000   \n",
              "max     891.000000    1.000000    3.000000   80.000000    8.000000   \n",
              "\n",
              "            Parch        Fare  \n",
              "count  891.000000  891.000000  \n",
              "mean     0.381594   32.204208  \n",
              "std      0.806057   49.693429  \n",
              "min      0.000000    0.000000  \n",
              "25%      0.000000    7.910400  \n",
              "50%      0.000000   14.454200  \n",
              "75%      0.000000   31.000000  \n",
              "max      6.000000  512.329200  "
            ]
          },
          "execution_count": 4,
          "metadata": {},
          "output_type": "execute_result"
        }
      ],
      "source": [
        "# Hiển thị thông tin tổng quan\n",
        "print('DATA INFO:')\n",
        "df.info()\n",
        "# Mô tả thống kê\n",
        "print(\"DESCRIBE DATA:\")\n",
        "df.describe()"
      ]
    },
    {
      "cell_type": "code",
      "execution_count": 5,
      "metadata": {
        "colab": {
          "base_uri": "https://localhost:8080/"
        },
        "id": "XBaOPSstI1Pt",
        "outputId": "73e94281-aa08-49a7-f1c4-2b61fb93429d"
      },
      "outputs": [
        {
          "name": "stdout",
          "output_type": "stream",
          "text": [
            "NULL VARIABLES:\n",
            "PassengerId      0\n",
            "Survived         0\n",
            "Pclass           0\n",
            "Name             0\n",
            "Sex              0\n",
            "Age            177\n",
            "SibSp            0\n",
            "Parch            0\n",
            "Ticket           0\n",
            "Fare             0\n",
            "Cabin          687\n",
            "Embarked         2\n",
            "dtype: int64\n"
          ]
        }
      ],
      "source": [
        "#Kiểm tra dữ liệu còn thiếu\n",
        "print('NULL VARIABLES:')\n",
        "print(df.isnull().sum())"
      ]
    },
    {
      "cell_type": "markdown",
      "metadata": {
        "id": "qz20jzqsPDS3"
      },
      "source": [
        "## Đếm số lượng mẫu trong một số lớp"
      ]
    },
    {
      "cell_type": "code",
      "execution_count": 6,
      "metadata": {
        "colab": {
          "base_uri": "https://localhost:8080/"
        },
        "id": "dVnveH30OJ7E",
        "outputId": "6a301702-c2d7-49de-916e-1e7f8b82779e"
      },
      "outputs": [
        {
          "data": {
            "text/plain": [
              "0    549\n",
              "1    342\n",
              "Name: Survived, dtype: int64"
            ]
          },
          "execution_count": 6,
          "metadata": {},
          "output_type": "execute_result"
        }
      ],
      "source": [
        "df['Survived'].value_counts()"
      ]
    },
    {
      "cell_type": "code",
      "execution_count": 7,
      "metadata": {
        "colab": {
          "base_uri": "https://localhost:8080/"
        },
        "id": "IYE63Hq1O5W2",
        "outputId": "3588626b-2da2-45d4-cdc0-7c282a43b945"
      },
      "outputs": [
        {
          "data": {
            "text/plain": [
              "3    491\n",
              "1    216\n",
              "2    184\n",
              "Name: Pclass, dtype: int64"
            ]
          },
          "execution_count": 7,
          "metadata": {},
          "output_type": "execute_result"
        }
      ],
      "source": [
        "df['Pclass'].value_counts()"
      ]
    },
    {
      "cell_type": "code",
      "execution_count": 8,
      "metadata": {
        "colab": {
          "base_uri": "https://localhost:8080/"
        },
        "id": "xvnWcralO7O8",
        "outputId": "b35cce9f-bda3-4d8b-bdad-67822f990f60"
      },
      "outputs": [
        {
          "data": {
            "text/plain": [
              "male      577\n",
              "female    314\n",
              "Name: Sex, dtype: int64"
            ]
          },
          "execution_count": 8,
          "metadata": {},
          "output_type": "execute_result"
        }
      ],
      "source": [
        "df['Sex'].value_counts()"
      ]
    },
    {
      "cell_type": "code",
      "execution_count": 9,
      "metadata": {
        "colab": {
          "base_uri": "https://localhost:8080/"
        },
        "id": "eYZjZbmOO9hk",
        "outputId": "66f91c0e-4774-419d-8642-78ea70240237"
      },
      "outputs": [
        {
          "data": {
            "text/plain": [
              "S    644\n",
              "C    168\n",
              "Q     77\n",
              "Name: Embarked, dtype: int64"
            ]
          },
          "execution_count": 9,
          "metadata": {},
          "output_type": "execute_result"
        }
      ],
      "source": [
        "df['Embarked'].value_counts()"
      ]
    },
    {
      "cell_type": "markdown",
      "metadata": {
        "id": "i3tSriMnK2nz"
      },
      "source": [
        "## Vẽ biểu đồ để hiểu dữ liệu"
      ]
    },
    {
      "cell_type": "code",
      "execution_count": 10,
      "metadata": {
        "colab": {
          "base_uri": "https://localhost:8080/",
          "height": 1000
        },
        "id": "RO_3oKYKI5qr",
        "outputId": "d1a39198-8d78-40b5-a90d-eb995ec41495"
      },
      "outputs": [
        {
          "data": {
            "image/png": "[encoded data removed]",
            "text/plain": [
              "<Figure size 640x480 with 1 Axes>"
            ]
          },
          "metadata": {},
          "output_type": "display_data"
        },
        {
          "data": {
            "image/png": "[encoded data removed]",
            "text/plain": [
              "<Figure size 640x480 with 1 Axes>"
            ]
          },
          "metadata": {},
          "output_type": "display_data"
        },
        {
          "data": {
            "image/png": "[encoded data removed]",
            "text/plain": [
              "<Figure size 640x480 with 1 Axes>"
            ]
          },
          "metadata": {},
          "output_type": "display_data"
        },
        {
          "data": {
            "image/png": "[encoded data removed]",
            "text/plain": [
              "<Figure size 640x480 with 1 Axes>"
            ]
          },
          "metadata": {},
          "output_type": "display_data"
        }
      ],
      "source": [
        "# Vẽ biểu đồ histogram để biểu thị tần xuất xuất hiện của các giá trị\n",
        "#Survived\n",
        "df['Survived'].hist()\n",
        "plt.title('Phân phối của Survived')\n",
        "plt.xlabel('Giá trị')\n",
        "plt.ylabel('Tần suất')\n",
        "plt.show()\n",
        "#Pclass\n",
        "df['Pclass'].hist()\n",
        "plt.title('Phân phối của Pclass')\n",
        "plt.xlabel('Giá trị')\n",
        "plt.ylabel('Tần suất')\n",
        "plt.show()\n",
        "#Sex\n",
        "df['Sex'].hist()\n",
        "plt.title('Phân phối của Sex')\n",
        "plt.xlabel('Giá trị')\n",
        "plt.ylabel('Tần suất')\n",
        "plt.show()\n",
        "#Fare\n",
        "df['Fare'].hist()\n",
        "plt.title('Phân phối của Fare')\n",
        "plt.xlabel('Giá trị')\n",
        "plt.ylabel('Tần suất')\n",
        "plt.show()"
      ]
    },
    {
      "cell_type": "code",
      "execution_count": 11,
      "metadata": {
        "colab": {
          "base_uri": "https://localhost:8080/",
          "height": 1000
        },
        "id": "qkuh8cRxMcwr",
        "outputId": "ab3178de-94c7-4df6-e5cb-3d6447955ba5"
      },
      "outputs": [
        {
          "data": {
            "image/png": "[encoded data removed]",
            "text/plain": [
              "<Figure size 640x480 with 1 Axes>"
            ]
          },
          "metadata": {},
          "output_type": "display_data"
        },
        {
          "data": {
            "image/png": "[encoded data removed]",
            "text/plain": [
              "<Figure size 640x480 with 1 Axes>"
            ]
          },
          "metadata": {},
          "output_type": "display_data"
        },
        {
          "data": {
            "image/png": "[encoded data removed]",
            "text/plain": [
              "<Figure size 640x480 with 1 Axes>"
            ]
          },
          "metadata": {},
          "output_type": "display_data"
        },
        {
          "data": {
            "image/png": "[encoded data removed]",
            "text/plain": [
              "<Figure size 640x480 with 1 Axes>"
            ]
          },
          "metadata": {},
          "output_type": "display_data"
        }
      ],
      "source": [
        "#Xem phân phối của một số thuộc tính theo kết quả\n",
        "#Sex\n",
        "sns.countplot(x='Sex', hue='Survived', data=df)\n",
        "plt.title('Phân phối của thuộc tính theo Survived')\n",
        "plt.show()\n",
        "#Pclass\n",
        "sns.countplot(x='Pclass', hue='Survived', data=df)\n",
        "plt.title('Phân phối của thuộc tính theo Survived')\n",
        "plt.show()\n",
        "#Parch\n",
        "sns.countplot(x='Parch', hue='Survived', data=df)\n",
        "plt.title('Phân phối của thuộc tính theo Survived')\n",
        "plt.show()\n",
        "#Embarked\n",
        "sns.countplot(x='Embarked', hue='Survived', data=df)\n",
        "plt.title('Phân phối của thuộc tính theo Survived')\n",
        "plt.show()"
      ]
    },
    {
      "cell_type": "code",
      "execution_count": 12,
      "metadata": {
        "colab": {
          "base_uri": "https://localhost:8080/",
          "height": 578
        },
        "id": "pBij4NUJQ69n",
        "outputId": "b66725fd-387c-45ea-a735-abd8c9d5400e"
      },
      "outputs": [
        {
          "name": "stderr",
          "output_type": "stream",
          "text": [
            "<ipython-input-12-67cb9ec0b768>:2: FutureWarning: The default value of numeric_only in DataFrame.corr is deprecated. In a future version, it will default to False. Select only valid columns or specify the value of numeric_only to silence this warning.\n",
            "  correlation_matrix = df.corr()\n"
          ]
        },
        {
          "data": {
            "image/png": "[encoded data removed]",
            "text/plain": [
              "<Figure size 640x480 with 2 Axes>"
            ]
          },
          "metadata": {},
          "output_type": "display_data"
        }
      ],
      "source": [
        "#Tạo ma trận tương quan giữa các lớp với nhau\n",
        "correlation_matrix = df.corr()\n",
        "sns.heatmap(correlation_matrix, annot=True, cmap='coolwarm')\n",
        "plt.title('Ma trận tương quan')\n",
        "plt.show()"
      ]
    },
    {
      "cell_type": "markdown",
      "metadata": {
        "id": "lP_c5kuDlKog"
      },
      "source": [
        "# Tiền xử lý dữ liệu"
      ]
    },
    {
      "cell_type": "code",
      "execution_count": 13,
      "metadata": {
        "id": "H4mBOllet7kz"
      },
      "outputs": [],
      "source": [
        "#Tính tuổi trung bình\n",
        "avg_age = df['Age'].mean()\n",
        "#Điền tuổi trung bình vào những chỗ bị thiếu\n",
        "df['Age'].fillna(avg_age,inplace=True)"
      ]
    },
    {
      "cell_type": "code",
      "execution_count": 14,
      "metadata": {
        "colab": {
          "base_uri": "https://localhost:8080/"
        },
        "id": "9aKT4dVYXhP9",
        "outputId": "2f0b0095-50dd-4b7c-8327-3facd2ee1871"
      },
      "outputs": [
        {
          "name": "stdout",
          "output_type": "stream",
          "text": [
            "PassengerId      0\n",
            "Survived         0\n",
            "Pclass           0\n",
            "Name             0\n",
            "Sex              0\n",
            "Age              0\n",
            "SibSp            0\n",
            "Parch            0\n",
            "Ticket           0\n",
            "Fare             0\n",
            "Cabin          687\n",
            "Embarked         2\n",
            "dtype: int64\n"
          ]
        }
      ],
      "source": [
        "#Kiểm tra dữ liệu sau khi thêm tuổi còn thiếu\n",
        "print(df.isnull().sum())"
      ]
    },
    {
      "cell_type": "code",
      "execution_count": 15,
      "metadata": {
        "colab": {
          "base_uri": "https://localhost:8080/",
          "height": 223
        },
        "id": "-7wfK-TNl1P6",
        "outputId": "58ab12c0-a676-4b23-c10b-e5780e068079"
      },
      "outputs": [
        {
          "name": "stdout",
          "output_type": "stream",
          "text": [
            "(891, 8)\n"
          ]
        },
        {
          "data": {
            "text/html": [
              "\n",
              "  <div id=\"df-f9d36035-f417-424d-9030-a2bfe9807201\" class=\"colab-df-container\">\n",
              "    <div>\n",
              "<style scoped>\n",
              "    .dataframe tbody tr th:only-of-type {\n",
              "        vertical-align: middle;\n",
              "    }\n",
              "\n",
              "    .dataframe tbody tr th {\n",
              "        vertical-align: top;\n",
              "    }\n",
              "\n",
              "    .dataframe thead th {\n",
              "        text-align: right;\n",
              "    }\n",
              "</style>\n",
              "<table border=\"1\" class=\"dataframe\">\n",
              "  <thead>\n",
              "    <tr style=\"text-align: right;\">\n",
              "      <th></th>\n",
              "      <th>Survived</th>\n",
              "      <th>Pclass</th>\n",
              "      <th>Sex</th>\n",
              "      <th>Age</th>\n",
              "      <th>SibSp</th>\n",
              "      <th>Parch</th>\n",
              "      <th>Fare</th>\n",
              "      <th>Embarked</th>\n",
              "    </tr>\n",
              "  </thead>\n",
              "  <tbody>\n",
              "    <tr>\n",
              "      <th>0</th>\n",
              "      <td>0</td>\n",
              "      <td>3</td>\n",
              "      <td>male</td>\n",
              "      <td>22.0</td>\n",
              "      <td>1</td>\n",
              "      <td>0</td>\n",
              "      <td>7.2500</td>\n",
              "      <td>S</td>\n",
              "    </tr>\n",
              "    <tr>\n",
              "      <th>1</th>\n",
              "      <td>1</td>\n",
              "      <td>1</td>\n",
              "      <td>female</td>\n",
              "      <td>38.0</td>\n",
              "      <td>1</td>\n",
              "      <td>0</td>\n",
              "      <td>71.2833</td>\n",
              "      <td>C</td>\n",
              "    </tr>\n",
              "    <tr>\n",
              "      <th>2</th>\n",
              "      <td>1</td>\n",
              "      <td>3</td>\n",
              "      <td>female</td>\n",
              "      <td>26.0</td>\n",
              "      <td>0</td>\n",
              "      <td>0</td>\n",
              "      <td>7.9250</td>\n",
              "      <td>S</td>\n",
              "    </tr>\n",
              "    <tr>\n",
              "      <th>3</th>\n",
              "      <td>1</td>\n",
              "      <td>1</td>\n",
              "      <td>female</td>\n",
              "      <td>35.0</td>\n",
              "      <td>1</td>\n",
              "      <td>0</td>\n",
              "      <td>53.1000</td>\n",
              "      <td>S</td>\n",
              "    </tr>\n",
              "    <tr>\n",
              "      <th>4</th>\n",
              "      <td>0</td>\n",
              "      <td>3</td>\n",
              "      <td>male</td>\n",
              "      <td>35.0</td>\n",
              "      <td>0</td>\n",
              "      <td>0</td>\n",
              "      <td>8.0500</td>\n",
              "      <td>S</td>\n",
              "    </tr>\n",
              "  </tbody>\n",
              "</table>\n",
              "</div>\n",
              "    <div class=\"colab-df-buttons\">\n",
              "\n",
              "  <div class=\"colab-df-container\">\n",
              "    <button class=\"colab-df-convert\" onclick=\"convertToInteractive('df-f9d36035-f417-424d-9030-a2bfe9807201')\"\n",
              "            title=\"Convert this dataframe to an interactive table.\"\n",
              "            style=\"display:none;\">\n",
              "\n",
              "  <svg xmlns=\"http://www.w3.org/2000/svg\" height=\"24px\" viewBox=\"0 -960 960 960\">\n",
              "    <path d=\"M120-120v-720h720v720H120Zm60-500h600v-160H180v160Zm220 220h160v-160H400v160Zm0 220h160v-160H400v160ZM180-400h160v-160H180v160Zm440 0h160v-160H620v160ZM180-180h160v-160H180v160Zm440 0h160v-160H620v160Z\"/>\n",
              "  </svg>\n",
              "    </button>\n",
              "\n",
              "  <style>\n",
              "    .colab-df-container {\n",
              "      display:flex;\n",
              "      gap: 12px;\n",
              "    }\n",
              "\n",
              "    .colab-df-convert {\n",
              "      background-color: #E8F0FE;\n",
              "      border: none;\n",
              "      border-radius: 50%;\n",
              "      cursor: pointer;\n",
              "      display: none;\n",
              "      fill: #1967D2;\n",
              "      height: 32px;\n",
              "      padding: 0 0 0 0;\n",
              "      width: 32px;\n",
              "    }\n",
              "\n",
              "    .colab-df-convert:hover {\n",
              "      background-color: #E2EBFA;\n",
              "      box-shadow: 0px 1px 2px rgba(60, 64, 67, 0.3), 0px 1px 3px 1px rgba(60, 64, 67, 0.15);\n",
              "      fill: #174EA6;\n",
              "    }\n",
              "\n",
              "    .colab-df-buttons div {\n",
              "      margin-bottom: 4px;\n",
              "    }\n",
              "\n",
              "    [theme=dark] .colab-df-convert {\n",
              "      background-color: #3B4455;\n",
              "      fill: #D2E3FC;\n",
              "    }\n",
              "\n",
              "    [theme=dark] .colab-df-convert:hover {\n",
              "      background-color: #434B5C;\n",
              "      box-shadow: 0px 1px 3px 1px rgba(0, 0, 0, 0.15);\n",
              "      filter: drop-shadow(0px 1px 2px rgba(0, 0, 0, 0.3));\n",
              "      fill: #FFFFFF;\n",
              "    }\n",
              "  </style>\n",
              "\n",
              "    <script>\n",
              "      const buttonEl =\n",
              "        document.querySelector('#df-f9d36035-f417-424d-9030-a2bfe9807201 button.colab-df-convert');\n",
              "      buttonEl.style.display =\n",
              "        google.colab.kernel.accessAllowed ? 'block' : 'none';\n",
              "\n",
              "      async function convertToInteractive(key) {\n",
              "        const element = document.querySelector('#df-f9d36035-f417-424d-9030-a2bfe9807201');\n",
              "        const dataTable =\n",
              "          await google.colab.kernel.invokeFunction('convertToInteractive',\n",
              "                                                    [key], {});\n",
              "        if (!dataTable) return;\n",
              "\n",
              "        const docLinkHtml = 'Like what you see? Visit the ' +\n",
              "          '<a target=\"_blank\" href=https://colab.research.google.com/notebooks/data_table.ipynb>data table notebook</a>'\n",
              "          + ' to learn more about interactive tables.';\n",
              "        element.innerHTML = '';\n",
              "        dataTable['output_type'] = 'display_data';\n",
              "        await google.colab.output.renderOutput(dataTable, element);\n",
              "        const docLink = document.createElement('div');\n",
              "        docLink.innerHTML = docLinkHtml;\n",
              "        element.appendChild(docLink);\n",
              "      }\n",
              "    </script>\n",
              "  </div>\n",
              "\n",
              "\n",
              "<div id=\"df-c5bd7810-cd83-4cd4-8302-05dd86c50b4e\">\n",
              "  <button class=\"colab-df-quickchart\" onclick=\"quickchart('df-c5bd7810-cd83-4cd4-8302-05dd86c50b4e')\"\n",
              "            title=\"Suggest charts\"\n",
              "            style=\"display:none;\">\n",
              "\n",
              "<svg xmlns=\"http://www.w3.org/2000/svg\" height=\"24px\"viewBox=\"0 0 24 24\"\n",
              "     width=\"24px\">\n",
              "    <g>\n",
              "        <path d=\"M19 3H5c-1.1 0-2 .9-2 2v14c0 1.1.9 2 2 2h14c1.1 0 2-.9 2-2V5c0-1.1-.9-2-2-2zM9 17H7v-7h2v7zm4 0h-2V7h2v10zm4 0h-2v-4h2v4z\"/>\n",
              "    </g>\n",
              "</svg>\n",
              "  </button>\n",
              "\n",
              "<style>\n",
              "  .colab-df-quickchart {\n",
              "      --bg-color: #E8F0FE;\n",
              "      --fill-color: #1967D2;\n",
              "      --hover-bg-color: #E2EBFA;\n",
              "      --hover-fill-color: #174EA6;\n",
              "      --disabled-fill-color: #AAA;\n",
              "      --disabled-bg-color: #DDD;\n",
              "  }\n",
              "\n",
              "  [theme=dark] .colab-df-quickchart {\n",
              "      --bg-color: #3B4455;\n",
              "      --fill-color: #D2E3FC;\n",
              "      --hover-bg-color: #434B5C;\n",
              "      --hover-fill-color: #FFFFFF;\n",
              "      --disabled-bg-color: #3B4455;\n",
              "      --disabled-fill-color: #666;\n",
              "  }\n",
              "\n",
              "  .colab-df-quickchart {\n",
              "    background-color: var(--bg-color);\n",
              "    border: none;\n",
              "    border-radius: 50%;\n",
              "    cursor: pointer;\n",
              "    display: none;\n",
              "    fill: var(--fill-color);\n",
              "    height: 32px;\n",
              "    padding: 0;\n",
              "    width: 32px;\n",
              "  }\n",
              "\n",
              "  .colab-df-quickchart:hover {\n",
              "    background-color: var(--hover-bg-color);\n",
              "    box-shadow: 0 1px 2px rgba(60, 64, 67, 0.3), 0 1px 3px 1px rgba(60, 64, 67, 0.15);\n",
              "    fill: var(--button-hover-fill-color);\n",
              "  }\n",
              "\n",
              "  .colab-df-quickchart-complete:disabled,\n",
              "  .colab-df-quickchart-complete:disabled:hover {\n",
              "    background-color: var(--disabled-bg-color);\n",
              "    fill: var(--disabled-fill-color);\n",
              "    box-shadow: none;\n",
              "  }\n",
              "\n",
              "  .colab-df-spinner {\n",
              "    border: 2px solid var(--fill-color);\n",
              "    border-color: transparent;\n",
              "    border-bottom-color: var(--fill-color);\n",
              "    animation:\n",
              "      spin 1s steps(1) infinite;\n",
              "  }\n",
              "\n",
              "  @keyframes spin {\n",
              "    0% {\n",
              "      border-color: transparent;\n",
              "      border-bottom-color: var(--fill-color);\n",
              "      border-left-color: var(--fill-color);\n",
              "    }\n",
              "    20% {\n",
              "      border-color: transparent;\n",
              "      border-left-color: var(--fill-color);\n",
              "      border-top-color: var(--fill-color);\n",
              "    }\n",
              "    30% {\n",
              "      border-color: transparent;\n",
              "      border-left-color: var(--fill-color);\n",
              "      border-top-color: var(--fill-color);\n",
              "      border-right-color: var(--fill-color);\n",
              "    }\n",
              "    40% {\n",
              "      border-color: transparent;\n",
              "      border-right-color: var(--fill-color);\n",
              "      border-top-color: var(--fill-color);\n",
              "    }\n",
              "    60% {\n",
              "      border-color: transparent;\n",
              "      border-right-color: var(--fill-color);\n",
              "    }\n",
              "    80% {\n",
              "      border-color: transparent;\n",
              "      border-right-color: var(--fill-color);\n",
              "      border-bottom-color: var(--fill-color);\n",
              "    }\n",
              "    90% {\n",
              "      border-color: transparent;\n",
              "      border-bottom-color: var(--fill-color);\n",
              "    }\n",
              "  }\n",
              "</style>\n",
              "\n",
              "  <script>\n",
              "    async function quickchart(key) {\n",
              "      const quickchartButtonEl =\n",
              "        document.querySelector('#' + key + ' button');\n",
              "      quickchartButtonEl.disabled = true;  // To prevent multiple clicks.\n",
              "      quickchartButtonEl.classList.add('colab-df-spinner');\n",
              "      try {\n",
              "        const charts = await google.colab.kernel.invokeFunction(\n",
              "            'suggestCharts', [key], {});\n",
              "      } catch (error) {\n",
              "        console.error('Error during call to suggestCharts:', error);\n",
              "      }\n",
              "      quickchartButtonEl.classList.remove('colab-df-spinner');\n",
              "      quickchartButtonEl.classList.add('colab-df-quickchart-complete');\n",
              "    }\n",
              "    (() => {\n",
              "      let quickchartButtonEl =\n",
              "        document.querySelector('#df-c5bd7810-cd83-4cd4-8302-05dd86c50b4e button');\n",
              "      quickchartButtonEl.style.display =\n",
              "        google.colab.kernel.accessAllowed ? 'block' : 'none';\n",
              "    })();\n",
              "  </script>\n",
              "</div>\n",
              "\n",
              "    </div>\n",
              "  </div>\n"
            ],
            "text/plain": [
              "   Survived  Pclass     Sex   Age  SibSp  Parch     Fare Embarked\n",
              "0         0       3    male  22.0      1      0   7.2500        S\n",
              "1         1       1  female  38.0      1      0  71.2833        C\n",
              "2         1       3  female  26.0      0      0   7.9250        S\n",
              "3         1       1  female  35.0      1      0  53.1000        S\n",
              "4         0       3    male  35.0      0      0   8.0500        S"
            ]
          },
          "execution_count": 15,
          "metadata": {},
          "output_type": "execute_result"
        }
      ],
      "source": [
        "#Bỏ features không cần thiết\n",
        "df.drop(['PassengerId', 'Name', 'Ticket', 'Cabin'], axis=1, inplace=True)\n",
        "print(df.shape)\n",
        "df.head()"
      ]
    },
    {
      "cell_type": "code",
      "execution_count": 16,
      "metadata": {
        "colab": {
          "base_uri": "https://localhost:8080/"
        },
        "id": "dZ-g_Nw2fJOZ",
        "outputId": "dc319059-f11d-49b5-e353-ab29d779c726"
      },
      "outputs": [
        {
          "name": "stdout",
          "output_type": "stream",
          "text": [
            "     Survived  Pclass        Age  SibSp  Parch     Fare  Sex_female  Sex_male  \\\n",
            "0           0       3  22.000000      1      0   7.2500           0         1   \n",
            "1           1       1  38.000000      1      0  71.2833           1         0   \n",
            "2           1       3  26.000000      0      0   7.9250           1         0   \n",
            "3           1       1  35.000000      1      0  53.1000           1         0   \n",
            "4           0       3  35.000000      0      0   8.0500           0         1   \n",
            "..        ...     ...        ...    ...    ...      ...         ...       ...   \n",
            "886         0       2  27.000000      0      0  13.0000           0         1   \n",
            "887         1       1  19.000000      0      0  30.0000           1         0   \n",
            "888         0       3  29.699118      1      2  23.4500           1         0   \n",
            "889         1       1  26.000000      0      0  30.0000           0         1   \n",
            "890         0       3  32.000000      0      0   7.7500           0         1   \n",
            "\n",
            "     Embarked_C  Embarked_Q  Embarked_S  \n",
            "0             0           0           1  \n",
            "1             1           0           0  \n",
            "2             0           0           1  \n",
            "3             0           0           1  \n",
            "4             0           0           1  \n",
            "..          ...         ...         ...  \n",
            "886           0           0           1  \n",
            "887           0           0           1  \n",
            "888           0           0           1  \n",
            "889           1           0           0  \n",
            "890           0           1           0  \n",
            "\n",
            "[891 rows x 11 columns]\n"
          ]
        }
      ],
      "source": [
        "# Sử dụng One-Hot Encoding cho các feature phân loại\n",
        "df = pd.get_dummies(df, columns=['Sex', 'Embarked'])\n",
        "\n",
        "print(df)"
      ]
    },
    {
      "cell_type": "code",
      "execution_count": 17,
      "metadata": {
        "colab": {
          "base_uri": "https://localhost:8080/"
        },
        "id": "NqyKqyXHUBGU",
        "outputId": "c30ce37d-aef7-4bd6-8ab3-178d6d993eaf"
      },
      "outputs": [
        {
          "name": "stdout",
          "output_type": "stream",
          "text": [
            "     Survived  Pclass  Age  SibSp  Parch  Fare  Sex_female  Sex_male  \\\n",
            "0           0       2   28      1      0    18           0         1   \n",
            "1           1       0   52      1      0   207           1         0   \n",
            "2           1       2   34      0      0    41           1         0   \n",
            "3           1       0   48      1      0   189           1         0   \n",
            "4           0       2   48      0      0    43           0         1   \n",
            "..        ...     ...  ...    ...    ...   ...         ...       ...   \n",
            "886         0       1   35      0      0    85           0         1   \n",
            "887         1       0   24      0      0   153           1         0   \n",
            "888         0       2   39      1      2   131           1         0   \n",
            "889         1       0   34      0      0   153           0         1   \n",
            "890         0       2   43      0      0    30           0         1   \n",
            "\n",
            "     Embarked_C  Embarked_Q  Embarked_S  \n",
            "0             0           0           1  \n",
            "1             1           0           0  \n",
            "2             0           0           1  \n",
            "3             0           0           1  \n",
            "4             0           0           1  \n",
            "..          ...         ...         ...  \n",
            "886           0           0           1  \n",
            "887           0           0           1  \n",
            "888           0           0           1  \n",
            "889           1           0           0  \n",
            "890           0           1           0  \n",
            "\n",
            "[891 rows x 11 columns]\n"
          ]
        }
      ],
      "source": [
        "# Chuyển đổi dữ liệu từ không phải int sang dạng int\n",
        "from sklearn.preprocessing import LabelEncoder\n",
        "LE = LabelEncoder()\n",
        "col_names = list(df.columns)\n",
        "\n",
        "for i in range(len(col_names)):\n",
        "   if not ( isinstance(df.dtypes[i], int)):\n",
        "    df[col_names[i]]=LE.fit_transform(df[col_names[i]])\n",
        "print(df)"
      ]
    },
    {
      "cell_type": "code",
      "execution_count": 18,
      "metadata": {
        "id": "A3gSPUr9Y7mW"
      },
      "outputs": [],
      "source": [
        "# Chuẩn hóa dữ liệu\n",
        "from sklearn.preprocessing import MinMaxScaler\n",
        "sc = MinMaxScaler()\n",
        "df[['Age', 'Fare']] = sc.fit_transform(df[['Age', 'Fare']])"
      ]
    },
    {
      "cell_type": "code",
      "execution_count": 19,
      "metadata": {
        "colab": {
          "base_uri": "https://localhost:8080/",
          "height": 206
        },
        "id": "WQ-L1BbPE5VW",
        "outputId": "23077146-77b2-4749-db9f-e5f36587dbf9"
      },
      "outputs": [
        {
          "data": {
            "text/html": [
              "\n",
              "  <div id=\"df-5200095f-1684-4077-bb31-3b0a2fad3524\" class=\"colab-df-container\">\n",
              "    <div>\n",
              "<style scoped>\n",
              "    .dataframe tbody tr th:only-of-type {\n",
              "        vertical-align: middle;\n",
              "    }\n",
              "\n",
              "    .dataframe tbody tr th {\n",
              "        vertical-align: top;\n",
              "    }\n",
              "\n",
              "    .dataframe thead th {\n",
              "        text-align: right;\n",
              "    }\n",
              "</style>\n",
              "<table border=\"1\" class=\"dataframe\">\n",
              "  <thead>\n",
              "    <tr style=\"text-align: right;\">\n",
              "      <th></th>\n",
              "      <th>Survived</th>\n",
              "      <th>Pclass</th>\n",
              "      <th>Age</th>\n",
              "      <th>SibSp</th>\n",
              "      <th>Parch</th>\n",
              "      <th>Fare</th>\n",
              "      <th>Sex_female</th>\n",
              "      <th>Sex_male</th>\n",
              "      <th>Embarked_C</th>\n",
              "      <th>Embarked_Q</th>\n",
              "      <th>Embarked_S</th>\n",
              "    </tr>\n",
              "  </thead>\n",
              "  <tbody>\n",
              "    <tr>\n",
              "      <th>0</th>\n",
              "      <td>0</td>\n",
              "      <td>2</td>\n",
              "      <td>0.318182</td>\n",
              "      <td>1</td>\n",
              "      <td>0</td>\n",
              "      <td>0.072874</td>\n",
              "      <td>0</td>\n",
              "      <td>1</td>\n",
              "      <td>0</td>\n",
              "      <td>0</td>\n",
              "      <td>1</td>\n",
              "    </tr>\n",
              "    <tr>\n",
              "      <th>1</th>\n",
              "      <td>1</td>\n",
              "      <td>0</td>\n",
              "      <td>0.590909</td>\n",
              "      <td>1</td>\n",
              "      <td>0</td>\n",
              "      <td>0.838057</td>\n",
              "      <td>1</td>\n",
              "      <td>0</td>\n",
              "      <td>1</td>\n",
              "      <td>0</td>\n",
              "      <td>0</td>\n",
              "    </tr>\n",
              "    <tr>\n",
              "      <th>2</th>\n",
              "      <td>1</td>\n",
              "      <td>2</td>\n",
              "      <td>0.386364</td>\n",
              "      <td>0</td>\n",
              "      <td>0</td>\n",
              "      <td>0.165992</td>\n",
              "      <td>1</td>\n",
              "      <td>0</td>\n",
              "      <td>0</td>\n",
              "      <td>0</td>\n",
              "      <td>1</td>\n",
              "    </tr>\n",
              "    <tr>\n",
              "      <th>3</th>\n",
              "      <td>1</td>\n",
              "      <td>0</td>\n",
              "      <td>0.545455</td>\n",
              "      <td>1</td>\n",
              "      <td>0</td>\n",
              "      <td>0.765182</td>\n",
              "      <td>1</td>\n",
              "      <td>0</td>\n",
              "      <td>0</td>\n",
              "      <td>0</td>\n",
              "      <td>1</td>\n",
              "    </tr>\n",
              "    <tr>\n",
              "      <th>4</th>\n",
              "      <td>0</td>\n",
              "      <td>2</td>\n",
              "      <td>0.545455</td>\n",
              "      <td>0</td>\n",
              "      <td>0</td>\n",
              "      <td>0.174089</td>\n",
              "      <td>0</td>\n",
              "      <td>1</td>\n",
              "      <td>0</td>\n",
              "      <td>0</td>\n",
              "      <td>1</td>\n",
              "    </tr>\n",
              "  </tbody>\n",
              "</table>\n",
              "</div>\n",
              "    <div class=\"colab-df-buttons\">\n",
              "\n",
              "  <div class=\"colab-df-container\">\n",
              "    <button class=\"colab-df-convert\" onclick=\"convertToInteractive('df-5200095f-1684-4077-bb31-3b0a2fad3524')\"\n",
              "            title=\"Convert this dataframe to an interactive table.\"\n",
              "            style=\"display:none;\">\n",
              "\n",
              "  <svg xmlns=\"http://www.w3.org/2000/svg\" height=\"24px\" viewBox=\"0 -960 960 960\">\n",
              "    <path d=\"M120-120v-720h720v720H120Zm60-500h600v-160H180v160Zm220 220h160v-160H400v160Zm0 220h160v-160H400v160ZM180-400h160v-160H180v160Zm440 0h160v-160H620v160ZM180-180h160v-160H180v160Zm440 0h160v-160H620v160Z\"/>\n",
              "  </svg>\n",
              "    </button>\n",
              "\n",
              "  <style>\n",
              "    .colab-df-container {\n",
              "      display:flex;\n",
              "      gap: 12px;\n",
              "    }\n",
              "\n",
              "    .colab-df-convert {\n",
              "      background-color: #E8F0FE;\n",
              "      border: none;\n",
              "      border-radius: 50%;\n",
              "      cursor: pointer;\n",
              "      display: none;\n",
              "      fill: #1967D2;\n",
              "      height: 32px;\n",
              "      padding: 0 0 0 0;\n",
              "      width: 32px;\n",
              "    }\n",
              "\n",
              "    .colab-df-convert:hover {\n",
              "      background-color: #E2EBFA;\n",
              "      box-shadow: 0px 1px 2px rgba(60, 64, 67, 0.3), 0px 1px 3px 1px rgba(60, 64, 67, 0.15);\n",
              "      fill: #174EA6;\n",
              "    }\n",
              "\n",
              "    .colab-df-buttons div {\n",
              "      margin-bottom: 4px;\n",
              "    }\n",
              "\n",
              "    [theme=dark] .colab-df-convert {\n",
              "      background-color: #3B4455;\n",
              "      fill: #D2E3FC;\n",
              "    }\n",
              "\n",
              "    [theme=dark] .colab-df-convert:hover {\n",
              "      background-color: #434B5C;\n",
              "      box-shadow: 0px 1px 3px 1px rgba(0, 0, 0, 0.15);\n",
              "      filter: drop-shadow(0px 1px 2px rgba(0, 0, 0, 0.3));\n",
              "      fill: #FFFFFF;\n",
              "    }\n",
              "  </style>\n",
              "\n",
              "    <script>\n",
              "      const buttonEl =\n",
              "        document.querySelector('#df-5200095f-1684-4077-bb31-3b0a2fad3524 button.colab-df-convert');\n",
              "      buttonEl.style.display =\n",
              "        google.colab.kernel.accessAllowed ? 'block' : 'none';\n",
              "\n",
              "      async function convertToInteractive(key) {\n",
              "        const element = document.querySelector('#df-5200095f-1684-4077-bb31-3b0a2fad3524');\n",
              "        const dataTable =\n",
              "          await google.colab.kernel.invokeFunction('convertToInteractive',\n",
              "                                                    [key], {});\n",
              "        if (!dataTable) return;\n",
              "\n",
              "        const docLinkHtml = 'Like what you see? Visit the ' +\n",
              "          '<a target=\"_blank\" href=https://colab.research.google.com/notebooks/data_table.ipynb>data table notebook</a>'\n",
              "          + ' to learn more about interactive tables.';\n",
              "        element.innerHTML = '';\n",
              "        dataTable['output_type'] = 'display_data';\n",
              "        await google.colab.output.renderOutput(dataTable, element);\n",
              "        const docLink = document.createElement('div');\n",
              "        docLink.innerHTML = docLinkHtml;\n",
              "        element.appendChild(docLink);\n",
              "      }\n",
              "    </script>\n",
              "  </div>\n",
              "\n",
              "\n",
              "<div id=\"df-ec5d1001-3b5e-4680-be87-b0b3f4f1ed97\">\n",
              "  <button class=\"colab-df-quickchart\" onclick=\"quickchart('df-ec5d1001-3b5e-4680-be87-b0b3f4f1ed97')\"\n",
              "            title=\"Suggest charts\"\n",
              "            style=\"display:none;\">\n",
              "\n",
              "<svg xmlns=\"http://www.w3.org/2000/svg\" height=\"24px\"viewBox=\"0 0 24 24\"\n",
              "     width=\"24px\">\n",
              "    <g>\n",
              "        <path d=\"M19 3H5c-1.1 0-2 .9-2 2v14c0 1.1.9 2 2 2h14c1.1 0 2-.9 2-2V5c0-1.1-.9-2-2-2zM9 17H7v-7h2v7zm4 0h-2V7h2v10zm4 0h-2v-4h2v4z\"/>\n",
              "    </g>\n",
              "</svg>\n",
              "  </button>\n",
              "\n",
              "<style>\n",
              "  .colab-df-quickchart {\n",
              "      --bg-color: #E8F0FE;\n",
              "      --fill-color: #1967D2;\n",
              "      --hover-bg-color: #E2EBFA;\n",
              "      --hover-fill-color: #174EA6;\n",
              "      --disabled-fill-color: #AAA;\n",
              "      --disabled-bg-color: #DDD;\n",
              "  }\n",
              "\n",
              "  [theme=dark] .colab-df-quickchart {\n",
              "      --bg-color: #3B4455;\n",
              "      --fill-color: #D2E3FC;\n",
              "      --hover-bg-color: #434B5C;\n",
              "      --hover-fill-color: #FFFFFF;\n",
              "      --disabled-bg-color: #3B4455;\n",
              "      --disabled-fill-color: #666;\n",
              "  }\n",
              "\n",
              "  .colab-df-quickchart {\n",
              "    background-color: var(--bg-color);\n",
              "    border: none;\n",
              "    border-radius: 50%;\n",
              "    cursor: pointer;\n",
              "    display: none;\n",
              "    fill: var(--fill-color);\n",
              "    height: 32px;\n",
              "    padding: 0;\n",
              "    width: 32px;\n",
              "  }\n",
              "\n",
              "  .colab-df-quickchart:hover {\n",
              "    background-color: var(--hover-bg-color);\n",
              "    box-shadow: 0 1px 2px rgba(60, 64, 67, 0.3), 0 1px 3px 1px rgba(60, 64, 67, 0.15);\n",
              "    fill: var(--button-hover-fill-color);\n",
              "  }\n",
              "\n",
              "  .colab-df-quickchart-complete:disabled,\n",
              "  .colab-df-quickchart-complete:disabled:hover {\n",
              "    background-color: var(--disabled-bg-color);\n",
              "    fill: var(--disabled-fill-color);\n",
              "    box-shadow: none;\n",
              "  }\n",
              "\n",
              "  .colab-df-spinner {\n",
              "    border: 2px solid var(--fill-color);\n",
              "    border-color: transparent;\n",
              "    border-bottom-color: var(--fill-color);\n",
              "    animation:\n",
              "      spin 1s steps(1) infinite;\n",
              "  }\n",
              "\n",
              "  @keyframes spin {\n",
              "    0% {\n",
              "      border-color: transparent;\n",
              "      border-bottom-color: var(--fill-color);\n",
              "      border-left-color: var(--fill-color);\n",
              "    }\n",
              "    20% {\n",
              "      border-color: transparent;\n",
              "      border-left-color: var(--fill-color);\n",
              "      border-top-color: var(--fill-color);\n",
              "    }\n",
              "    30% {\n",
              "      border-color: transparent;\n",
              "      border-left-color: var(--fill-color);\n",
              "      border-top-color: var(--fill-color);\n",
              "      border-right-color: var(--fill-color);\n",
              "    }\n",
              "    40% {\n",
              "      border-color: transparent;\n",
              "      border-right-color: var(--fill-color);\n",
              "      border-top-color: var(--fill-color);\n",
              "    }\n",
              "    60% {\n",
              "      border-color: transparent;\n",
              "      border-right-color: var(--fill-color);\n",
              "    }\n",
              "    80% {\n",
              "      border-color: transparent;\n",
              "      border-right-color: var(--fill-color);\n",
              "      border-bottom-color: var(--fill-color);\n",
              "    }\n",
              "    90% {\n",
              "      border-color: transparent;\n",
              "      border-bottom-color: var(--fill-color);\n",
              "    }\n",
              "  }\n",
              "</style>\n",
              "\n",
              "  <script>\n",
              "    async function quickchart(key) {\n",
              "      const quickchartButtonEl =\n",
              "        document.querySelector('#' + key + ' button');\n",
              "      quickchartButtonEl.disabled = true;  // To prevent multiple clicks.\n",
              "      quickchartButtonEl.classList.add('colab-df-spinner');\n",
              "      try {\n",
              "        const charts = await google.colab.kernel.invokeFunction(\n",
              "            'suggestCharts', [key], {});\n",
              "      } catch (error) {\n",
              "        console.error('Error during call to suggestCharts:', error);\n",
              "      }\n",
              "      quickchartButtonEl.classList.remove('colab-df-spinner');\n",
              "      quickchartButtonEl.classList.add('colab-df-quickchart-complete');\n",
              "    }\n",
              "    (() => {\n",
              "      let quickchartButtonEl =\n",
              "        document.querySelector('#df-ec5d1001-3b5e-4680-be87-b0b3f4f1ed97 button');\n",
              "      quickchartButtonEl.style.display =\n",
              "        google.colab.kernel.accessAllowed ? 'block' : 'none';\n",
              "    })();\n",
              "  </script>\n",
              "</div>\n",
              "\n",
              "    </div>\n",
              "  </div>\n"
            ],
            "text/plain": [
              "   Survived  Pclass       Age  SibSp  Parch      Fare  Sex_female  Sex_male  \\\n",
              "0         0       2  0.318182      1      0  0.072874           0         1   \n",
              "1         1       0  0.590909      1      0  0.838057           1         0   \n",
              "2         1       2  0.386364      0      0  0.165992           1         0   \n",
              "3         1       0  0.545455      1      0  0.765182           1         0   \n",
              "4         0       2  0.545455      0      0  0.174089           0         1   \n",
              "\n",
              "   Embarked_C  Embarked_Q  Embarked_S  \n",
              "0           0           0           1  \n",
              "1           1           0           0  \n",
              "2           0           0           1  \n",
              "3           0           0           1  \n",
              "4           0           0           1  "
            ]
          },
          "execution_count": 19,
          "metadata": {},
          "output_type": "execute_result"
        }
      ],
      "source": [
        "df.head()"
      ]
    },
    {
      "cell_type": "code",
      "execution_count": 20,
      "metadata": {
        "colab": {
          "base_uri": "https://localhost:8080/"
        },
        "id": "EH7gUpaTKO7a",
        "outputId": "7dc34fd1-4eb8-4a3d-dc7f-780abd3afb28"
      },
      "outputs": [
        {
          "name": "stdout",
          "output_type": "stream",
          "text": [
            "     Pclass       Age  SibSp  Parch      Fare  Sex_female  Sex_male  \\\n",
            "0         2  0.318182      1      0  0.072874           0         1   \n",
            "1         0  0.590909      1      0  0.838057           1         0   \n",
            "2         2  0.386364      0      0  0.165992           1         0   \n",
            "3         0  0.545455      1      0  0.765182           1         0   \n",
            "4         2  0.545455      0      0  0.174089           0         1   \n",
            "..      ...       ...    ...    ...       ...         ...       ...   \n",
            "886       1  0.397727      0      0  0.344130           0         1   \n",
            "887       0  0.272727      0      0  0.619433           1         0   \n",
            "888       2  0.443182      1      2  0.530364           1         0   \n",
            "889       0  0.386364      0      0  0.619433           0         1   \n",
            "890       2  0.488636      0      0  0.121457           0         1   \n",
            "\n",
            "     Embarked_C  Embarked_Q  Embarked_S  \n",
            "0             0           0           1  \n",
            "1             1           0           0  \n",
            "2             0           0           1  \n",
            "3             0           0           1  \n",
            "4             0           0           1  \n",
            "..          ...         ...         ...  \n",
            "886           0           0           1  \n",
            "887           0           0           1  \n",
            "888           0           0           1  \n",
            "889           1           0           0  \n",
            "890           0           1           0  \n",
            "\n",
            "[891 rows x 10 columns]\n",
            "0      0\n",
            "1      1\n",
            "2      1\n",
            "3      1\n",
            "4      0\n",
            "      ..\n",
            "886    0\n",
            "887    1\n",
            "888    0\n",
            "889    1\n",
            "890    0\n",
            "Name: Survived, Length: 891, dtype: int64\n"
          ]
        }
      ],
      "source": [
        "X = df.drop(['Survived'], axis=1)\n",
        "y = df['Survived']\n",
        "print(X)\n",
        "print(y)"
      ]
    },
    {
      "cell_type": "markdown",
      "metadata": {
        "id": "1WCo0H2xSgMP"
      },
      "source": [
        "#Huấn luyện các mô hình"
      ]
    },
    {
      "cell_type": "code",
      "execution_count": 21,
      "metadata": {
        "id": "XX87ZePVSe6E"
      },
      "outputs": [],
      "source": [
        "# Chia tập dữ liệu thành train và test\n",
        "X_train, X_test, y_train, y_test = train_test_split(X, y, test_size=0.2, random_state=42)"
      ]
    },
    {
      "cell_type": "markdown",
      "metadata": {
        "id": "ghhtaFpacRIJ"
      },
      "source": [
        "## Naive Bayes"
      ]
    },
    {
      "cell_type": "code",
      "execution_count": 22,
      "metadata": {
        "id": "tzb0xVn9zPr3"
      },
      "outputs": [],
      "source": [
        "#Naive Bayes\n",
        "\n",
        "# Khởi tạo model\n",
        "model_NB = GaussianNB()\n",
        "model_NB.fit(X_train, y_train)\n",
        "y_pred_NB = model_NB.predict(X_test)"
      ]
    },
    {
      "cell_type": "code",
      "execution_count": 23,
      "metadata": {
        "colab": {
          "base_uri": "https://localhost:8080/"
        },
        "id": "XpYYf14mzuCY",
        "outputId": "968166ec-0cbc-47cc-fed7-f05556f9a8a9"
      },
      "outputs": [
        {
          "name": "stdout",
          "output_type": "stream",
          "text": [
            "Naive Bayes Accuracy: 77.09%\n",
            "              precision    recall  f1-score   support\n",
            "\n",
            "           0       0.83      0.77      0.80       105\n",
            "           1       0.70      0.77      0.74        74\n",
            "\n",
            "    accuracy                           0.77       179\n",
            "   macro avg       0.77      0.77      0.77       179\n",
            "weighted avg       0.78      0.77      0.77       179\n",
            "\n"
          ]
        }
      ],
      "source": [
        "# Tính độ chính xác\n",
        "accuracy_NB = accuracy_score(y_test, y_pred_NB)\n",
        "print(\"Naive Bayes Accuracy: %.2f%%\" % (accuracy_NB * 100.0))\n",
        "# model evaluation\n",
        "print(classification_report(y_test,y_pred_NB))"
      ]
    },
    {
      "cell_type": "markdown",
      "metadata": {
        "id": "2ENMm3X1cW9E"
      },
      "source": [
        "## Linear Regression"
      ]
    },
    {
      "cell_type": "code",
      "execution_count": 24,
      "metadata": {
        "id": "nUHCDIVxzBHQ"
      },
      "outputs": [],
      "source": [
        "#Linear Regression\n",
        "\n",
        "# Khởi tạo model\n",
        "model_LR = LinearRegression()\n",
        "model_LR.fit(X_train, y_train)\n",
        "y_pred_LR = (model_LR.predict(X_test) > 0.5).astype(int)"
      ]
    },
    {
      "cell_type": "code",
      "execution_count": 25,
      "metadata": {
        "colab": {
          "base_uri": "https://localhost:8080/"
        },
        "id": "ffor9OmZ0QgA",
        "outputId": "bb65c345-8933-4f1e-b4cb-3bfbde6d9656"
      },
      "outputs": [
        {
          "name": "stdout",
          "output_type": "stream",
          "text": [
            "Linear Regression Accuracy: 79.33%\n",
            "              precision    recall  f1-score   support\n",
            "\n",
            "           0       0.81      0.85      0.83       105\n",
            "           1       0.77      0.72      0.74        74\n",
            "\n",
            "    accuracy                           0.79       179\n",
            "   macro avg       0.79      0.78      0.78       179\n",
            "weighted avg       0.79      0.79      0.79       179\n",
            "\n"
          ]
        }
      ],
      "source": [
        "# Tính độ chính xác\n",
        "accuracy_LR = accuracy_score(y_test, y_pred_LR)\n",
        "print(\"Linear Regression Accuracy: %.2f%%\" % (accuracy_LR * 100.0))\n",
        "# model evaluation\n",
        "print(classification_report(y_test,y_pred_LR))"
      ]
    },
    {
      "cell_type": "markdown",
      "metadata": {
        "id": "fUYiFuikcdHS"
      },
      "source": [
        "## Decision Tree"
      ]
    },
    {
      "cell_type": "code",
      "execution_count": 26,
      "metadata": {
        "id": "tgW1QUMgzEtM"
      },
      "outputs": [],
      "source": [
        "# Khởi tạo model\n",
        "model_DT = DecisionTreeClassifier()\n",
        "model_DT.fit(X_train, y_train)\n",
        "y_pred_DT = model_DT.predict(X_test)"
      ]
    },
    {
      "cell_type": "code",
      "execution_count": 27,
      "metadata": {
        "colab": {
          "base_uri": "https://localhost:8080/"
        },
        "id": "GH5k_WiZ0cuM",
        "outputId": "01035cd7-5090-425c-b4ed-e3a2222b3bc0"
      },
      "outputs": [
        {
          "name": "stdout",
          "output_type": "stream",
          "text": [
            "Decision Tree Accuracy: 77.65%\n",
            "              precision    recall  f1-score   support\n",
            "\n",
            "           0       0.81      0.81      0.81       105\n",
            "           1       0.73      0.73      0.73        74\n",
            "\n",
            "    accuracy                           0.78       179\n",
            "   macro avg       0.77      0.77      0.77       179\n",
            "weighted avg       0.78      0.78      0.78       179\n",
            "\n"
          ]
        }
      ],
      "source": [
        "# Tính độ chính xác\n",
        "accuracy_DT = accuracy_score(y_test, y_pred_DT)\n",
        "print(\"Decision Tree Accuracy: %.2f%%\" % (accuracy_DT * 100.0))\n",
        "# model evaluation ( đánh giá model)\n",
        "print(classification_report(y_test,y_pred_DT))"
      ]
    },
    {
      "cell_type": "markdown",
      "metadata": {
        "id": "HLQqHKctcfdT"
      },
      "source": [
        "## K-NN"
      ]
    },
    {
      "cell_type": "code",
      "execution_count": 28,
      "metadata": {
        "id": "VnyoknX2zHfA"
      },
      "outputs": [],
      "source": [
        "# Khởi tạo model với số neighbor là 15\n",
        "model_KNN = KNeighborsClassifier(n_neighbors=15)\n",
        "model_KNN.fit(X_train, y_train)\n",
        "\n",
        "y_pred_KNN = model_KNN.predict(X_test)"
      ]
    },
    {
      "cell_type": "code",
      "execution_count": 29,
      "metadata": {
        "colab": {
          "base_uri": "https://localhost:8080/"
        },
        "id": "LLiYsdLR0hoC",
        "outputId": "90dcb13d-60c6-4106-a12c-fa41b044ac99"
      },
      "outputs": [
        {
          "name": "stdout",
          "output_type": "stream",
          "text": [
            "K Nearest Neighbors Accuracy: 77.65%\n",
            "              precision    recall  f1-score   support\n",
            "\n",
            "           0       0.82      0.89      0.85       105\n",
            "           1       0.82      0.72      0.76        74\n",
            "\n",
            "    accuracy                           0.82       179\n",
            "   macro avg       0.82      0.80      0.81       179\n",
            "weighted avg       0.82      0.82      0.81       179\n",
            "\n"
          ]
        }
      ],
      "source": [
        "# Tính độ chính xác\n",
        "accuracy_KNN = accuracy_score(y_test, y_pred_KNN)\n",
        "print(\"K Nearest Neighbors Accuracy: %.2f%%\" % (accuracy_DT * 100.0))\n",
        "# model evaluation ( đánh giá model)\n",
        "print(classification_report(y_test,y_pred_KNN))"
      ]
    },
    {
      "cell_type": "markdown",
      "metadata": {
        "id": "FJN4nJLyciDz"
      },
      "source": [
        "## SVM"
      ]
    },
    {
      "cell_type": "code",
      "execution_count": 30,
      "metadata": {
        "id": "KKpcg1QrzLFA"
      },
      "outputs": [],
      "source": [
        "# Khởi tạo model\n",
        "model_SVM = svm.SVC(kernel='sigmoid', C=1)  # Chọn kernel sigmoid và tham số C=1\n",
        "model_SVM.fit(X_train, y_train)\n",
        "y_pred_SVM = model_SVM.predict(X_test)"
      ]
    },
    {
      "cell_type": "code",
      "execution_count": 31,
      "metadata": {
        "colab": {
          "base_uri": "https://localhost:8080/"
        },
        "id": "4elLaDwE0rEo",
        "outputId": "9e166ad7-7336-43e4-9f76-4a708fe469bb"
      },
      "outputs": [
        {
          "name": "stdout",
          "output_type": "stream",
          "text": [
            "Support Vector Machines Accurary: 59.78%\n",
            "              precision    recall  f1-score   support\n",
            "\n",
            "           0       0.65      0.68      0.66       105\n",
            "           1       0.51      0.49      0.50        74\n",
            "\n",
            "    accuracy                           0.60       179\n",
            "   macro avg       0.58      0.58      0.58       179\n",
            "weighted avg       0.59      0.60      0.60       179\n",
            "\n"
          ]
        }
      ],
      "source": [
        "# Tính độ chính xác\n",
        "accuracy_SVM = accuracy_score(y_test, y_pred_SVM)\n",
        "print(\"Support Vector Machines Accurary: %.2f%%\" % (accuracy_SVM * 100.0))\n",
        "# model evaluation ( đánh giá model)\n",
        "print(classification_report(y_test,y_pred_SVM))"
      ]
    },
    {
      "cell_type": "markdown",
      "metadata": {
        "id": "0EQwBW1Ktc8_"
      },
      "source": [
        "#Giải quyết bài toán bằng Esemble Learning"
      ]
    },
    {
      "cell_type": "markdown",
      "metadata": {
        "id": "z06kbyA1clpx"
      },
      "source": [
        "## Random Forest"
      ]
    },
    {
      "cell_type": "code",
      "execution_count": 32,
      "metadata": {
        "id": "Ye4ejJrXwdNy"
      },
      "outputs": [],
      "source": [
        "#Random Forest\n",
        "\n",
        "# Khởi tạo model\n",
        "model_RF = RandomForestClassifier(n_estimators=100, random_state=42)\n",
        "model_RF.fit(X_train, y_train)\n",
        "y_pred_RF = model_RF.predict(X_test)"
      ]
    },
    {
      "cell_type": "code",
      "execution_count": 33,
      "metadata": {
        "colab": {
          "base_uri": "https://localhost:8080/"
        },
        "id": "lR2mwyZy0wHw",
        "outputId": "99330ec1-6415-45cc-8b19-cf9f9e527e92"
      },
      "outputs": [
        {
          "name": "stdout",
          "output_type": "stream",
          "text": [
            "Random Forest Accurary: 81.56%\n",
            "              precision    recall  f1-score   support\n",
            "\n",
            "           0       0.83      0.87      0.85       105\n",
            "           1       0.80      0.74      0.77        74\n",
            "\n",
            "    accuracy                           0.82       179\n",
            "   macro avg       0.81      0.80      0.81       179\n",
            "weighted avg       0.81      0.82      0.81       179\n",
            "\n"
          ]
        }
      ],
      "source": [
        "# Tính độ chính xác\n",
        "accuracy_RF = accuracy_score(y_test, y_pred_RF)\n",
        "print(\"Random Forest Accurary: %.2f%%\" % (accuracy_RF * 100.0))\n",
        "# model evaluation\n",
        "print(classification_report(y_test,y_pred_RF))"
      ]
    },
    {
      "cell_type": "markdown",
      "metadata": {
        "id": "UivkZ9wLcr8H"
      },
      "source": [
        "## AdaBoost (Adaptive Boosting)"
      ]
    },
    {
      "cell_type": "code",
      "execution_count": 34,
      "metadata": {
        "colab": {
          "base_uri": "https://localhost:8080/"
        },
        "id": "v2StRf0PtXdR",
        "outputId": "5f66e0da-7cf3-40a0-be09-f6f9dc26b44b"
      },
      "outputs": [
        {
          "name": "stderr",
          "output_type": "stream",
          "text": [
            "/usr/local/lib/python3.10/dist-packages/sklearn/ensemble/_base.py:166: FutureWarning: `base_estimator` was renamed to `estimator` in version 1.2 and will be removed in 1.4.\n",
            "  warnings.warn(\n"
          ]
        }
      ],
      "source": [
        "#AdaBoost (Adaptive Boosting)\n",
        "\n",
        "base_estimator = DecisionTreeClassifier(max_depth=1)\n",
        "model_AB = AdaBoostClassifier(base_estimator=base_estimator, n_estimators=50, random_state=42)\n",
        "# Train model với dữ liệu huấn luyện\n",
        "model_AB.fit(X_train, y_train)\n",
        "y_pred_AB = model_AB.predict(X_test)\n"
      ]
    },
    {
      "cell_type": "code",
      "execution_count": 35,
      "metadata": {
        "colab": {
          "base_uri": "https://localhost:8080/"
        },
        "id": "eHu4isTB05ci",
        "outputId": "95346c4c-5412-4b82-c53a-f7205ec6e62c"
      },
      "outputs": [
        {
          "name": "stdout",
          "output_type": "stream",
          "text": [
            "AdaBoost Accurary: 80.45%\n",
            "              precision    recall  f1-score   support\n",
            "\n",
            "           0       0.84      0.83      0.83       105\n",
            "           1       0.76      0.77      0.77        74\n",
            "\n",
            "    accuracy                           0.80       179\n",
            "   macro avg       0.80      0.80      0.80       179\n",
            "weighted avg       0.80      0.80      0.80       179\n",
            "\n"
          ]
        }
      ],
      "source": [
        "# Tính độ chính xác\n",
        "accuracy_AB = accuracy_score(y_test, y_pred_AB)\n",
        "print(\"AdaBoost Accurary: %.2f%%\" % (accuracy_AB * 100.0))\n",
        "# model evaluation\n",
        "print(classification_report(y_test,y_pred_AB))"
      ]
    },
    {
      "cell_type": "markdown",
      "metadata": {
        "id": "pXyn8X3rcvdP"
      },
      "source": [
        "## Gradient Boosting"
      ]
    },
    {
      "cell_type": "code",
      "execution_count": 36,
      "metadata": {
        "id": "tRafjSBItTM5"
      },
      "outputs": [],
      "source": [
        "#Gradient Boosting\n",
        "\n",
        "# Khởi tạo model\n",
        "model_GB = GradientBoostingClassifier(n_estimators=100, learning_rate=0.1, max_depth=3, random_state=42)\n",
        "model_GB.fit(X_train, y_train)\n",
        "\n",
        "y_pred_GB = model_GB.predict(X_test)"
      ]
    },
    {
      "cell_type": "code",
      "execution_count": 37,
      "metadata": {
        "colab": {
          "base_uri": "https://localhost:8080/"
        },
        "id": "05uDEXpV094M",
        "outputId": "89fdc646-e152-437e-b2ea-8b80f68a902b"
      },
      "outputs": [
        {
          "name": "stdout",
          "output_type": "stream",
          "text": [
            "Gradient Boosting Accurary: 80.45%\n",
            "              precision    recall  f1-score   support\n",
            "\n",
            "           0       0.81      0.88      0.84       105\n",
            "           1       0.80      0.70      0.75        74\n",
            "\n",
            "    accuracy                           0.80       179\n",
            "   macro avg       0.80      0.79      0.79       179\n",
            "weighted avg       0.80      0.80      0.80       179\n",
            "\n"
          ]
        }
      ],
      "source": [
        "# Tính độ chính xác\n",
        "accuracy_GB = accuracy_score(y_test, y_pred_GB)\n",
        "print(\"Gradient Boosting Accurary: %.2f%%\" % (accuracy_GB * 100.0))\n",
        "# model evaluation ( đánh giá model)\n",
        "print(classification_report(y_test,y_pred_GB))"
      ]
    },
    {
      "cell_type": "markdown",
      "metadata": {
        "id": "mowMxTJeCZUr"
      },
      "source": [
        "# Feed Forward Neural Network(FFNN)"
      ]
    },
    {
      "cell_type": "code",
      "execution_count": 38,
      "metadata": {
        "id": "g13Z5nOORGvZ"
      },
      "outputs": [],
      "source": [
        "# Chuẩn hóa dữ liệu cho phù hợp với RNN\n",
        "from sklearn.preprocessing import StandardScaler\n",
        "scaler = StandardScaler()\n",
        "X_train_rnn = scaler.fit_transform(X_train)\n",
        "X_test_rnn = scaler.transform(X_test)"
      ]
    },
    {
      "cell_type": "code",
      "execution_count": 39,
      "metadata": {
        "colab": {
          "base_uri": "https://localhost:8080/"
        },
        "id": "TuImU853RJv6",
        "outputId": "1baee119-4ed4-4901-a66a-25aa0f006e72"
      },
      "outputs": [
        {
          "name": "stdout",
          "output_type": "stream",
          "text": [
            "Epoch 1/15\n",
            "23/23 [==============================] - 1s 14ms/step - loss: 0.6172 - accuracy: 0.6629 - val_loss: 0.5703 - val_accuracy: 0.6760\n",
            "Epoch 2/15\n",
            "23/23 [==============================] - 0s 4ms/step - loss: 0.5341 - accuracy: 0.7584 - val_loss: 0.5062 - val_accuracy: 0.7877\n",
            "Epoch 3/15\n",
            "23/23 [==============================] - 0s 4ms/step - loss: 0.4877 - accuracy: 0.8006 - val_loss: 0.4746 - val_accuracy: 0.7933\n",
            "Epoch 4/15\n",
            "23/23 [==============================] - 0s 4ms/step - loss: 0.4714 - accuracy: 0.8006 - val_loss: 0.4615 - val_accuracy: 0.7877\n",
            "Epoch 5/15\n",
            "23/23 [==============================] - 0s 4ms/step - loss: 0.4583 - accuracy: 0.8020 - val_loss: 0.4530 - val_accuracy: 0.7989\n",
            "Epoch 6/15\n",
            "23/23 [==============================] - 0s 5ms/step - loss: 0.4516 - accuracy: 0.8020 - val_loss: 0.4461 - val_accuracy: 0.7877\n",
            "Epoch 7/15\n",
            "23/23 [==============================] - 0s 4ms/step - loss: 0.4478 - accuracy: 0.8020 - val_loss: 0.4486 - val_accuracy: 0.7765\n",
            "Epoch 8/15\n",
            "23/23 [==============================] - 0s 4ms/step - loss: 0.4422 - accuracy: 0.8020 - val_loss: 0.4370 - val_accuracy: 0.7933\n",
            "Epoch 9/15\n",
            "23/23 [==============================] - 0s 4ms/step - loss: 0.4381 - accuracy: 0.8090 - val_loss: 0.4394 - val_accuracy: 0.7933\n",
            "Epoch 10/15\n",
            "23/23 [==============================] - 0s 4ms/step - loss: 0.4372 - accuracy: 0.8076 - val_loss: 0.4313 - val_accuracy: 0.7989\n",
            "Epoch 11/15\n",
            "23/23 [==============================] - 0s 4ms/step - loss: 0.4345 - accuracy: 0.8048 - val_loss: 0.4314 - val_accuracy: 0.7877\n",
            "Epoch 12/15\n",
            "23/23 [==============================] - 0s 4ms/step - loss: 0.4333 - accuracy: 0.8118 - val_loss: 0.4270 - val_accuracy: 0.7933\n",
            "Epoch 13/15\n",
            "23/23 [==============================] - 0s 4ms/step - loss: 0.4249 - accuracy: 0.8118 - val_loss: 0.4273 - val_accuracy: 0.7933\n",
            "Epoch 14/15\n",
            "23/23 [==============================] - 0s 4ms/step - loss: 0.4245 - accuracy: 0.8048 - val_loss: 0.4230 - val_accuracy: 0.8045\n",
            "Epoch 15/15\n",
            "23/23 [==============================] - 0s 4ms/step - loss: 0.4238 - accuracy: 0.8048 - val_loss: 0.4234 - val_accuracy: 0.7989\n"
          ]
        },
        {
          "data": {
            "text/plain": [
              "<keras.src.callbacks.History at 0x7b284028ce50>"
            ]
          },
          "execution_count": 39,
          "metadata": {},
          "output_type": "execute_result"
        }
      ],
      "source": [
        "from tensorflow.keras.models import Sequential\n",
        "from tensorflow.keras.layers import Dense\n",
        "\n",
        "# Xây dựng mô hình\n",
        "model_ffnn = Sequential()\n",
        "model_ffnn.add(Dense(64, activation='relu'))\n",
        "model_ffnn.add(Dense(32, activation='relu'))\n",
        "model_ffnn.add(Dense(1, activation='sigmoid'))  # Sử dụng 'sigmoid' vì đây là bài toán phân loại nhị phân\n",
        "\n",
        "# Compile và huấn luyện\n",
        "model_ffnn.compile(optimizer='adam', loss='binary_crossentropy', metrics=['accuracy'])\n",
        "model_ffnn.fit(X_train, y_train, epochs=15, batch_size=32, validation_data=(X_test, y_test))\n"
      ]
    },
    {
      "cell_type": "code",
      "execution_count": 40,
      "metadata": {
        "colab": {
          "base_uri": "https://localhost:8080/"
        },
        "id": "Q3LfwemfRZ2B",
        "outputId": "6b93530f-f33b-49fe-d368-3fb05e26ec00"
      },
      "outputs": [
        {
          "name": "stdout",
          "output_type": "stream",
          "text": [
            "Model: \"sequential\"\n",
            "_________________________________________________________________\n",
            " Layer (type)                Output Shape              Param #   \n",
            "=================================================================\n",
            " dense (Dense)               (None, 64)                704       \n",
            "                                                                 \n",
            " dense_1 (Dense)             (None, 32)                2080      \n",
            "                                                                 \n",
            " dense_2 (Dense)             (None, 1)                 33        \n",
            "                                                                 \n",
            "=================================================================\n",
            "Total params: 2817 (11.00 KB)\n",
            "Trainable params: 2817 (11.00 KB)\n",
            "Non-trainable params: 0 (0.00 Byte)\n",
            "_________________________________________________________________\n"
          ]
        }
      ],
      "source": [
        "model_ffnn.build()\n",
        "model_ffnn.summary()"
      ]
    },
    {
      "cell_type": "code",
      "execution_count": 41,
      "metadata": {
        "colab": {
          "base_uri": "https://localhost:8080/"
        },
        "id": "MFW91f9vRbod",
        "outputId": "89f9a0e7-0995-4c4f-ac5f-d8335e2613c6"
      },
      "outputs": [
        {
          "name": "stdout",
          "output_type": "stream",
          "text": [
            "6/6 [==============================] - 0s 3ms/step - loss: 0.4234 - accuracy: 0.7989\n",
            "Accuracy on test set: 79.89%\n"
          ]
        }
      ],
      "source": [
        "# Đánh giá mô hình trên tập kiểm tra và in ra kết quả\n",
        "loss, accuracy = model_ffnn.evaluate(X_test, y_test)\n",
        "print(f'Accuracy on test set: {accuracy * 100:.2f}%')"
      ]
    },
    {
      "cell_type": "markdown",
      "metadata": {
        "id": "ssew4nf6Co1A"
      },
      "source": [
        "# Reccurent Neural Network(RNN)\n",
        "\n"
      ]
    },
    {
      "cell_type": "code",
      "execution_count": 42,
      "metadata": {
        "colab": {
          "base_uri": "https://localhost:8080/"
        },
        "id": "2G_RI9WDRu9w",
        "outputId": "e1ab3060-d0dc-43af-ddb9-626f0dca7919"
      },
      "outputs": [
        {
          "name": "stdout",
          "output_type": "stream",
          "text": [
            "Epoch 1/20\n",
            "23/23 [==============================] - 4s 30ms/step - loss: 0.6785 - accuracy: 0.6166 - val_loss: 0.6339 - val_accuracy: 0.7709\n",
            "Epoch 2/20\n",
            "23/23 [==============================] - 0s 6ms/step - loss: 0.6017 - accuracy: 0.7865 - val_loss: 0.5541 - val_accuracy: 0.7765\n",
            "Epoch 3/20\n",
            "23/23 [==============================] - 0s 6ms/step - loss: 0.5237 - accuracy: 0.7837 - val_loss: 0.4813 - val_accuracy: 0.7765\n",
            "Epoch 4/20\n",
            "23/23 [==============================] - 0s 6ms/step - loss: 0.4741 - accuracy: 0.7893 - val_loss: 0.4442 - val_accuracy: 0.7877\n",
            "Epoch 5/20\n",
            "23/23 [==============================] - 0s 5ms/step - loss: 0.4508 - accuracy: 0.7963 - val_loss: 0.4298 - val_accuracy: 0.7877\n",
            "Epoch 6/20\n",
            "23/23 [==============================] - 0s 6ms/step - loss: 0.4424 - accuracy: 0.8076 - val_loss: 0.4243 - val_accuracy: 0.7933\n",
            "Epoch 7/20\n",
            "23/23 [==============================] - 0s 6ms/step - loss: 0.4351 - accuracy: 0.8076 - val_loss: 0.4199 - val_accuracy: 0.7989\n",
            "Epoch 8/20\n",
            "23/23 [==============================] - 0s 5ms/step - loss: 0.4281 - accuracy: 0.8146 - val_loss: 0.4180 - val_accuracy: 0.7989\n",
            "Epoch 9/20\n",
            "23/23 [==============================] - 0s 7ms/step - loss: 0.4248 - accuracy: 0.8146 - val_loss: 0.4144 - val_accuracy: 0.8045\n",
            "Epoch 10/20\n",
            "23/23 [==============================] - 0s 5ms/step - loss: 0.4178 - accuracy: 0.8160 - val_loss: 0.4135 - val_accuracy: 0.8101\n",
            "Epoch 11/20\n",
            "23/23 [==============================] - 0s 6ms/step - loss: 0.4232 - accuracy: 0.8146 - val_loss: 0.4150 - val_accuracy: 0.8156\n",
            "Epoch 12/20\n",
            "23/23 [==============================] - 0s 6ms/step - loss: 0.4171 - accuracy: 0.8174 - val_loss: 0.4171 - val_accuracy: 0.8101\n",
            "Epoch 13/20\n",
            "23/23 [==============================] - 0s 6ms/step - loss: 0.4134 - accuracy: 0.8216 - val_loss: 0.4163 - val_accuracy: 0.8045\n",
            "Epoch 14/20\n",
            "23/23 [==============================] - 0s 6ms/step - loss: 0.4150 - accuracy: 0.8174 - val_loss: 0.4171 - val_accuracy: 0.8101\n",
            "Epoch 15/20\n",
            "23/23 [==============================] - 0s 6ms/step - loss: 0.4125 - accuracy: 0.8174 - val_loss: 0.4158 - val_accuracy: 0.8101\n",
            "Epoch 16/20\n",
            "23/23 [==============================] - 0s 6ms/step - loss: 0.4135 - accuracy: 0.8287 - val_loss: 0.4188 - val_accuracy: 0.8101\n",
            "Epoch 17/20\n",
            "23/23 [==============================] - 0s 6ms/step - loss: 0.4080 - accuracy: 0.8287 - val_loss: 0.4207 - val_accuracy: 0.8101\n",
            "Epoch 18/20\n",
            "23/23 [==============================] - 0s 6ms/step - loss: 0.4061 - accuracy: 0.8301 - val_loss: 0.4224 - val_accuracy: 0.8101\n",
            "Epoch 19/20\n",
            "23/23 [==============================] - 0s 6ms/step - loss: 0.4053 - accuracy: 0.8272 - val_loss: 0.4210 - val_accuracy: 0.8156\n",
            "Epoch 20/20\n",
            "23/23 [==============================] - 0s 6ms/step - loss: 0.4054 - accuracy: 0.8315 - val_loss: 0.4246 - val_accuracy: 0.8156\n"
          ]
        },
        {
          "data": {
            "text/plain": [
              "<keras.src.callbacks.History at 0x7b2840aaadd0>"
            ]
          },
          "execution_count": 42,
          "metadata": {},
          "output_type": "execute_result"
        }
      ],
      "source": [
        "from tensorflow.keras.layers import LSTM, Dropout\n",
        "\n",
        "\n",
        "# Đưa dữ liệu vào dạng chuỗi với timestep = 1\n",
        "X_train_rnn = X_train_rnn.reshape(X_train_rnn.shape[0], 1, X_train_rnn.shape[1])\n",
        "X_test_rnn = X_test_rnn.reshape(X_test_rnn.shape[0], 1, X_test_rnn.shape[1])\n",
        "\n",
        "# Xây dựng mô hình RNN\n",
        "model_rnn = Sequential()\n",
        "model_rnn.add(LSTM(64, input_shape=(1, X_train_rnn.shape[2])))\n",
        "model_rnn.add(Dropout(0.2))\n",
        "model_rnn.add(Dense(32, activation='relu'))\n",
        "model_rnn.add(Dense(1, activation='sigmoid'))\n",
        "\n",
        "# Compile và huấn luyện\n",
        "model_rnn.compile(loss='binary_crossentropy', optimizer='adam', metrics=['accuracy'])\n",
        "model_rnn.fit(X_train_rnn, y_train, epochs=20, validation_data=(X_test_rnn, y_test))"
      ]
    },
    {
      "cell_type": "code",
      "execution_count": 43,
      "metadata": {
        "colab": {
          "base_uri": "https://localhost:8080/"
        },
        "id": "GfR42UYaRvjU",
        "outputId": "d4ca06c4-1362-46dc-cec7-74077192a861"
      },
      "outputs": [
        {
          "name": "stdout",
          "output_type": "stream",
          "text": [
            "6/6 [==============================] - 0s 3ms/step - loss: 0.4246 - accuracy: 0.8156\n",
            "Accuracy on test set: 81.56%\n"
          ]
        }
      ],
      "source": [
        "loss, accuracy = model_rnn.evaluate(X_test_rnn, y_test)\n",
        "print(f'Accuracy on test set: {accuracy * 100:.2f}%')"
      ]
    },
    {
      "cell_type": "markdown",
      "metadata": {
        "id": "XgKbH24dBdaf"
      },
      "source": [
        "# Áp dụng Early stopping vào các mô hình để tránh overfitting"
      ]
    },
    {
      "cell_type": "code",
      "execution_count": 44,
      "metadata": {
        "id": "-000EowRBjZN"
      },
      "outputs": [],
      "source": [
        "# hàm số đánh giá độ chính xác\n",
        "def accuracy(y_true, y_preds):\n",
        "    return accuracy_score(y_true, y_preds)\n",
        "\n",
        "# tạo class thực hiện early stopping\n",
        "class early_stopping():\n",
        "    def __init__(self, accuracy, eval_set, early_stopping_rounds=20):\n",
        "        self.accuracy = accuracy\n",
        "        self.x_val = eval_set[0]\n",
        "        self.y_val = eval_set[1]\n",
        "        self.best_perf = 0.\n",
        "        self.counter = 0\n",
        "        self.early_stopping_rounds = early_stopping_rounds\n",
        "\n",
        "    def __call__(self, i, model):\n",
        "        # dự đoán bằng eval dataset\n",
        "        preds = model.predict(self.x_val)\n",
        "        # tính độ chính xác\n",
        "        acc = self.accuracy(self.y_val, preds)\n",
        "        # so sánh với độ chính xác tốt nhất\n",
        "        if acc > self.best_perf:\n",
        "            self.best_perf = acc\n",
        "            self.counter = 0\n",
        "        else:\n",
        "            self.counter += 1\n",
        "        # nếu như counter > ngưỡng thì dừng việc học\n",
        "        return self.counter > self.early_stopping_rounds\n"
      ]
    },
    {
      "cell_type": "markdown",
      "metadata": {
        "id": "bNXFfp1TBsH9"
      },
      "source": [
        "## Áp dụng cho các mô hình học máy truyền thống"
      ]
    },
    {
      "cell_type": "code",
      "execution_count": 45,
      "metadata": {
        "colab": {
          "base_uri": "https://localhost:8080/"
        },
        "id": "-Sx06u3gBnCl",
        "outputId": "058bb23e-6b1d-4330-d0af-372756ecb653"
      },
      "outputs": [
        {
          "name": "stdout",
          "output_type": "stream",
          "text": [
            "Early stopping at iteration 704\n",
            "Length train dataset 712\n",
            "Naive Bayes Accurary: 74.30%\n",
            "              precision    recall  f1-score   support\n",
            "\n",
            "           0       0.72      0.91      0.81       105\n",
            "           1       0.80      0.50      0.62        74\n",
            "\n",
            "    accuracy                           0.74       179\n",
            "   macro avg       0.76      0.71      0.71       179\n",
            "weighted avg       0.76      0.74      0.73       179\n",
            "\n"
          ]
        }
      ],
      "source": [
        "#Naive Bayes\n",
        "\n",
        "# Khởi tạo model\n",
        "model_NB = GaussianNB()\n",
        "\n",
        "# Thực hiện train theo batch và áp dụng early stopping\n",
        "callback = early_stopping(accuracy, [X_test, y_test], early_stopping_rounds=13)\n",
        "\n",
        "for i in range(0,len(X_train),32):\n",
        "  model_NB.fit(X_train[i:i+32], y_train[i:i+32])\n",
        "\n",
        "  if callback(i , model_NB):\n",
        "    print(f\"Early stopping at iteration {i}\")\n",
        "    print(f\"Length train dataset {len(X_train)}\")\n",
        "    break\n",
        "\n",
        "# Dự đoán kết quả với dữ liệu test\n",
        "y_pred_NB = model_NB.predict(X_test)\n",
        "# Tính độ chính xác\n",
        "accuracy_NB = accuracy_score(y_test, y_pred_NB)\n",
        "print(\"Naive Bayes Accurary: %.2f%%\" % (accuracy_NB * 100.0))\n",
        "# model evaluation ( đánh giá model)\n",
        "print(classification_report(y_test,y_pred_NB))"
      ]
    },
    {
      "cell_type": "code",
      "execution_count": 46,
      "metadata": {
        "colab": {
          "base_uri": "https://localhost:8080/"
        },
        "id": "Ws_UVtAgBzo0",
        "outputId": "83caece8-bb74-4280-c6c8-089bdb2fd088"
      },
      "outputs": [
        {
          "name": "stdout",
          "output_type": "stream",
          "text": [
            "Early stopping at iteration 352\n",
            "Length train dataset 712\n",
            "Linear Regression Mean Squared Error: 0.3368350128878913\n"
          ]
        }
      ],
      "source": [
        "#Linear Regression\n",
        "\n",
        "# Khởi tạo model\n",
        "model_LR = LinearRegression()\n",
        "\n",
        "# Thực hiện train theo batch và áp dụng early stopping\n",
        "callback = early_stopping(accuracy, [X_test, y_test], early_stopping_rounds=10)\n",
        "\n",
        "for i in range(0,len(X_train),32):\n",
        "  model_LR.fit(X_train[i:i+32], y_train[i:i+32])\n",
        "\n",
        "  if callback(i , model_NB):\n",
        "    print(f\"Early stopping at iteration {i}\")\n",
        "    print(f\"Length train dataset {len(X_train)}\")\n",
        "    break\n",
        "\n",
        "# Dự đoán kết quả với dữ liệu test\n",
        "y_pred_LR = model_LR.predict(X_test)\n",
        "# Đánh giá mô hình bằng Mean Squared Error (MSE)\n",
        "mse = mean_squared_error(y_test, y_pred_LR)\n",
        "print(f\"Linear Regression Mean Squared Error: {mse}\")"
      ]
    },
    {
      "cell_type": "code",
      "execution_count": 47,
      "metadata": {
        "colab": {
          "base_uri": "https://localhost:8080/"
        },
        "id": "LeNPAM3GB2Br",
        "outputId": "762dd62a-c18b-4842-caab-c65f05af5354"
      },
      "outputs": [
        {
          "name": "stdout",
          "output_type": "stream",
          "text": [
            "Early stopping at iteration 480\n",
            "Length train dataset 712\n",
            "Decision Tree Accurary: 77.65%\n",
            "              precision    recall  f1-score   support\n",
            "\n",
            "           0       0.78      0.86      0.82       105\n",
            "           1       0.77      0.66      0.71        74\n",
            "\n",
            "    accuracy                           0.78       179\n",
            "   macro avg       0.77      0.76      0.76       179\n",
            "weighted avg       0.78      0.78      0.77       179\n",
            "\n"
          ]
        }
      ],
      "source": [
        "#Decision Tree\n",
        "# Khởi tạo model\n",
        "model_DT = DecisionTreeClassifier()\n",
        "\n",
        "# Thực hiện train theo batch và áp dụng early stopping\n",
        "callback = early_stopping(accuracy, [X_test, y_test], early_stopping_rounds=14)\n",
        "\n",
        "for i in range(0,len(X_train),32):\n",
        "  model_DT.fit(X_train[i:i+32], y_train[i:i+32])\n",
        "  if callback(i , model_NB):\n",
        "    print(f\"Early stopping at iteration {i}\")\n",
        "    print(f\"Length train dataset {len(X_train)}\")\n",
        "    break\n",
        "\n",
        "# Dự đoán kết quả với dữ liệu test\n",
        "y_pred_DT = model_DT.predict(X_test)\n",
        "# Tính độ chính xác\n",
        "accuracy_DT = accuracy_score(y_test, y_pred_DT)\n",
        "print(\"Decision Tree Accurary: %.2f%%\" % (accuracy_DT * 100.0))\n",
        "# model evaluation ( đánh giá model)\n",
        "print(classification_report(y_test,y_pred_DT))"
      ]
    },
    {
      "cell_type": "code",
      "execution_count": 48,
      "metadata": {
        "colab": {
          "base_uri": "https://localhost:8080/"
        },
        "id": "Db5cFLQmB7gn",
        "outputId": "b4647171-4e2f-4f47-fedb-25b5160eef07"
      },
      "outputs": [
        {
          "name": "stdout",
          "output_type": "stream",
          "text": [
            "Early stopping at iteration 352\n",
            "Length train dataset 712\n",
            "K Nearest Neighbors Accurary: 77.65%\n",
            "              precision    recall  f1-score   support\n",
            "\n",
            "           0       0.74      0.85      0.79       105\n",
            "           1       0.72      0.57      0.64        74\n",
            "\n",
            "    accuracy                           0.73       179\n",
            "   macro avg       0.73      0.71      0.71       179\n",
            "weighted avg       0.73      0.73      0.73       179\n",
            "\n"
          ]
        }
      ],
      "source": [
        "#K Nearest Neighbors\n",
        "\n",
        "# Khởi tạo model với số neighbor là 15\n",
        "model_KNN = KNeighborsClassifier(n_neighbors=15)\n",
        "\n",
        "# Thực hiện train theo batch và áp dụng early stopping\n",
        "callback = early_stopping(accuracy, [X_test, y_test], early_stopping_rounds=10)\n",
        "\n",
        "for i in range(0,len(X_train),32):\n",
        "  model_KNN.fit(X_train[i:i+32], y_train[i:i+32])\n",
        "  if callback(i , model_NB):\n",
        "    print(f\"Early stopping at iteration {i}\")\n",
        "    print(f\"Length train dataset {len(X_train)}\")\n",
        "    break\n",
        "\n",
        "# Dự đoán kết quả với dữ liệu test\n",
        "y_pred_KNN = model_KNN.predict(X_test)\n",
        "# Tính độ chính xác\n",
        "accuracy_KNN = accuracy_score(y_test, y_pred_KNN)\n",
        "print(\"K Nearest Neighbors Accurary: %.2f%%\" % (accuracy_DT * 100.0))\n",
        "# model evaluation ( đánh giá model)\n",
        "print(classification_report(y_test,y_pred_KNN))"
      ]
    },
    {
      "cell_type": "code",
      "execution_count": 49,
      "metadata": {
        "colab": {
          "base_uri": "https://localhost:8080/"
        },
        "id": "gU-T8LhcCT10",
        "outputId": "143faa89-7256-458b-c72b-e0f55109bb52"
      },
      "outputs": [
        {
          "name": "stdout",
          "output_type": "stream",
          "text": [
            "Early stopping at iteration 352\n",
            "Length train dataset 712\n",
            "Support Vector Machines Accurary: 73.18%\n",
            "              precision    recall  f1-score   support\n",
            "\n",
            "           0       0.75      0.75      0.75       105\n",
            "           1       0.65      0.65      0.65        74\n",
            "\n",
            "    accuracy                           0.71       179\n",
            "   macro avg       0.70      0.70      0.70       179\n",
            "weighted avg       0.71      0.71      0.71       179\n",
            "\n"
          ]
        }
      ],
      "source": [
        "#Support Vector Machines\n",
        "\n",
        "# Khởi tạo model\n",
        "model_SVM = svm.SVC(kernel='sigmoid', C=1)  # Chọn kernel sigmoid và tham số C=1\n",
        "\n",
        "# Thực hiện train theo batch và áp dụng early stopping\n",
        "callback = early_stopping(accuracy, [X_test, y_test], early_stopping_rounds=10)\n",
        "\n",
        "for i in range(0,len(X_train),32):\n",
        "  model_SVM.fit(X_train[i:i+32], y_train[i:i+32])\n",
        "  if callback(i , model_NB):\n",
        "    print(f\"Early stopping at iteration {i}\")\n",
        "    print(f\"Length train dataset {len(X_train)}\")\n",
        "    break\n",
        "\n",
        "# Dự đoán kết quả với dữ liệu test\n",
        "y_pred_SVM = model_SVM.predict(X_test)\n",
        "# Tính độ chính xác\n",
        "accuracy_SVM = accuracy_score(y_test, y_pred_KNN)\n",
        "print(\"Support Vector Machines Accurary: %.2f%%\" % (accuracy_SVM * 100.0))\n",
        "# model evaluation ( đánh giá model)\n",
        "print(classification_report(y_test,y_pred_SVM))"
      ]
    },
    {
      "cell_type": "markdown",
      "metadata": {
        "id": "vtrhOcWCDRQN"
      },
      "source": [
        "## Áp dụng cho các mô hình học máy thuộc ensemble learning"
      ]
    },
    {
      "cell_type": "code",
      "execution_count": 50,
      "metadata": {
        "colab": {
          "base_uri": "https://localhost:8080/"
        },
        "id": "BrayGODrDVIz",
        "outputId": "cd4e69ee-a1ec-4b1a-b90f-b2caa78f6e6c"
      },
      "outputs": [
        {
          "name": "stdout",
          "output_type": "stream",
          "text": [
            "Early stopping at iteration 448\n",
            "Length train dataset 712\n",
            "Random Forest Accurary: 72.63%\n",
            "              precision    recall  f1-score   support\n",
            "\n",
            "           0       0.75      0.80      0.77       105\n",
            "           1       0.69      0.62      0.65        74\n",
            "\n",
            "    accuracy                           0.73       179\n",
            "   macro avg       0.72      0.71      0.71       179\n",
            "weighted avg       0.72      0.73      0.72       179\n",
            "\n"
          ]
        }
      ],
      "source": [
        "#Random Forest\n",
        "\n",
        "# Khởi tạo model\n",
        "model_RF = RandomForestClassifier(n_estimators=100, random_state=42)\n",
        "\n",
        "# Thực hiện train theo batch và áp dụng early stopping\n",
        "callback = early_stopping(accuracy, [X_test, y_test], early_stopping_rounds=13)\n",
        "\n",
        "for i in range(0,len(X_train),32):\n",
        "  model_RF.fit(X_train[i:i+32], y_train[i:i+32])\n",
        "  if callback(i , model_NB):\n",
        "    print(f\"Early stopping at iteration {i}\")\n",
        "    print(f\"Length train dataset {len(X_train)}\")\n",
        "    break\n",
        "\n",
        "# Dự đoán kết quả với dữ liệu test\n",
        "y_pred_RF = model_RF.predict(X_test)\n",
        "# Tính độ chính xác\n",
        "accuracy_RF = accuracy_score(y_test, y_pred_RF)\n",
        "print(\"Random Forest Accurary: %.2f%%\" % (accuracy_RF * 100.0))\n",
        "# model evaluation ( đánh giá model)\n",
        "print(classification_report(y_test,y_pred_RF))"
      ]
    },
    {
      "cell_type": "code",
      "execution_count": 51,
      "metadata": {
        "colab": {
          "base_uri": "https://localhost:8080/"
        },
        "id": "WVgL4iG_DVqX",
        "outputId": "9dfb4094-a353-494b-94fb-eeaa68869fd4"
      },
      "outputs": [
        {
          "name": "stdout",
          "output_type": "stream",
          "text": [
            "Early stopping at iteration 512\n",
            "Length train dataset 712\n",
            "AdaBoost Accurary: 77.65%\n",
            "              precision    recall  f1-score   support\n",
            "\n",
            "           0       0.89      0.70      0.79       105\n",
            "           1       0.68      0.88      0.76        74\n",
            "\n",
            "    accuracy                           0.78       179\n",
            "   macro avg       0.78      0.79      0.78       179\n",
            "weighted avg       0.80      0.78      0.78       179\n",
            "\n"
          ]
        }
      ],
      "source": [
        "import warnings\n",
        "warnings.filterwarnings('ignore')\n",
        "\n",
        "#AdaBoost (Adaptive Boosting)\n",
        "\n",
        "# Khởi tạo model\n",
        "# Ở đây, chúng ta sử dụng Decision Tree Classifier làm mô hình cơ bản (base estimator)\n",
        "base_estimator = DecisionTreeClassifier(max_depth=1)\n",
        "model_AB = AdaBoostClassifier(base_estimator=base_estimator, n_estimators=50, random_state=42)\n",
        "\n",
        "# Thực hiện train theo batch và áp dụng early stopping\n",
        "callback = early_stopping(accuracy, [X_test, y_test], early_stopping_rounds=15)\n",
        "\n",
        "for i in range(0,len(X_train),32):\n",
        "  model_AB.fit(X_train[i:i+32], y_train[i:i+32])\n",
        "  if callback(i , model_NB):\n",
        "    print(f\"Early stopping at iteration {i}\")\n",
        "    print(f\"Length train dataset {len(X_train)}\")\n",
        "    break\n",
        "\n",
        "# Dự đoán kết quả với dữ liệu test\n",
        "y_pred_AB = model_AB.predict(X_test)\n",
        "# Tính độ chính xác\n",
        "accuracy_AB = accuracy_score(y_test, y_pred_AB)\n",
        "print(\"AdaBoost Accurary: %.2f%%\" % (accuracy_AB * 100.0))\n",
        "# model evaluation ( đánh giá model)\n",
        "print(classification_report(y_test,y_pred_AB))"
      ]
    },
    {
      "cell_type": "code",
      "execution_count": 52,
      "metadata": {
        "colab": {
          "base_uri": "https://localhost:8080/"
        },
        "id": "QSQVyPV3DZZG",
        "outputId": "f9bcd2f8-8ce9-4558-b833-83f552959761"
      },
      "outputs": [
        {
          "name": "stdout",
          "output_type": "stream",
          "text": [
            "Early stopping at iteration 512\n",
            "Length train dataset 712\n",
            "Gradient Boosting Accurary: 77.65%\n",
            "              precision    recall  f1-score   support\n",
            "\n",
            "           0       0.89      0.70      0.79       105\n",
            "           1       0.68      0.88      0.76        74\n",
            "\n",
            "    accuracy                           0.78       179\n",
            "   macro avg       0.78      0.79      0.78       179\n",
            "weighted avg       0.80      0.78      0.78       179\n",
            "\n"
          ]
        }
      ],
      "source": [
        "#Gradient Boosting\n",
        "\n",
        "# Khởi tạo model\n",
        "model_GB = GradientBoostingClassifier(n_estimators=100, learning_rate=0.1, max_depth=3, random_state=42)\n",
        "\n",
        "# Thực hiện train theo batch và áp dụng early stopping\n",
        "callback = early_stopping(accuracy, [X_test, y_test], early_stopping_rounds=15)\n",
        "\n",
        "for i in range(0,len(X_train),32):\n",
        "  model_GB.fit(X_train[i:i+32], y_train[i:i+32])\n",
        "  if callback(i , model_NB):\n",
        "    print(f\"Early stopping at iteration {i}\")\n",
        "    print(f\"Length train dataset {len(X_train)}\")\n",
        "    break\n",
        "\n",
        "# Dự đoán kết quả với dữ liệu test\n",
        "y_pred_GB = model_GB.predict(X_test)\n",
        "# Tính độ chính xác\n",
        "accuracy_GB = accuracy_score(y_test, y_pred_GB)\n",
        "print(\"Gradient Boosting Accurary: %.2f%%\" % (accuracy_GB * 100.0))\n",
        "# model evaluation ( đánh giá model)\n",
        "print(classification_report(y_test,y_pred_GB))"
      ]
    },
    {
      "cell_type": "markdown",
      "metadata": {
        "id": "Qt8uRM-IDh1W"
      },
      "source": [
        "## Áp dụng Early stopping vào NN"
      ]
    },
    {
      "cell_type": "markdown",
      "metadata": {
        "id": "4h6toxpOEA2-"
      },
      "source": [
        "### FFNN"
      ]
    },
    {
      "cell_type": "code",
      "execution_count": 55,
      "metadata": {
        "id": "In6iLx9DDzYE"
      },
      "outputs": [],
      "source": [
        "import tensorflow as tf\n",
        "\n",
        "# Định dạng Callback\n",
        "class MyCallback(tf.keras.callbacks.Callback):\n",
        "  def on_epoch_end(self, epoch, logs={}):\n",
        "    if logs.get(\"loss\") < 0.4:\n",
        "      print(\"\\nLoss is to low so stop training.\")\n",
        "      self.model.stop_training = True\n",
        "\n",
        "callback = MyCallback()"
      ]
    },
    {
      "cell_type": "code",
      "execution_count": 57,
      "metadata": {
        "colab": {
          "base_uri": "https://localhost:8080/"
        },
        "id": "Sn9z59n_D15n",
        "outputId": "1ca43839-1d91-438d-b1f9-91c2777e09ff"
      },
      "outputs": [
        {
          "name": "stdout",
          "output_type": "stream",
          "text": [
            "Epoch 1/100\n",
            "23/23 [==============================] - 3s 23ms/step - loss: 0.6096 - accuracy: 0.6503 - val_loss: 0.5619 - val_accuracy: 0.6872\n",
            "Epoch 2/100\n",
            "23/23 [==============================] - 0s 6ms/step - loss: 0.5305 - accuracy: 0.7514 - val_loss: 0.5040 - val_accuracy: 0.7933\n",
            "Epoch 3/100\n",
            "23/23 [==============================] - 0s 8ms/step - loss: 0.4909 - accuracy: 0.8034 - val_loss: 0.4723 - val_accuracy: 0.7821\n",
            "Epoch 4/100\n",
            "23/23 [==============================] - 0s 7ms/step - loss: 0.4706 - accuracy: 0.7992 - val_loss: 0.4537 - val_accuracy: 0.7877\n",
            "Epoch 5/100\n",
            "23/23 [==============================] - 0s 7ms/step - loss: 0.4602 - accuracy: 0.7992 - val_loss: 0.4449 - val_accuracy: 0.7933\n",
            "Epoch 6/100\n",
            "23/23 [==============================] - 0s 7ms/step - loss: 0.4533 - accuracy: 0.7992 - val_loss: 0.4382 - val_accuracy: 0.7821\n",
            "Epoch 7/100\n",
            "23/23 [==============================] - 0s 7ms/step - loss: 0.4487 - accuracy: 0.8048 - val_loss: 0.4390 - val_accuracy: 0.7877\n",
            "Epoch 8/100\n",
            "23/23 [==============================] - 0s 7ms/step - loss: 0.4474 - accuracy: 0.8048 - val_loss: 0.4364 - val_accuracy: 0.7877\n",
            "Epoch 9/100\n",
            "23/23 [==============================] - 0s 7ms/step - loss: 0.4431 - accuracy: 0.8020 - val_loss: 0.4294 - val_accuracy: 0.7933\n",
            "Epoch 10/100\n",
            "23/23 [==============================] - 0s 8ms/step - loss: 0.4377 - accuracy: 0.8104 - val_loss: 0.4294 - val_accuracy: 0.7933\n",
            "Epoch 11/100\n",
            "23/23 [==============================] - 0s 6ms/step - loss: 0.4343 - accuracy: 0.8090 - val_loss: 0.4276 - val_accuracy: 0.7933\n",
            "Epoch 12/100\n",
            "23/23 [==============================] - 0s 7ms/step - loss: 0.4299 - accuracy: 0.8076 - val_loss: 0.4235 - val_accuracy: 0.8045\n",
            "Epoch 13/100\n",
            "23/23 [==============================] - 0s 7ms/step - loss: 0.4286 - accuracy: 0.8146 - val_loss: 0.4277 - val_accuracy: 0.7933\n",
            "Epoch 14/100\n",
            "23/23 [==============================] - 0s 7ms/step - loss: 0.4264 - accuracy: 0.8174 - val_loss: 0.4222 - val_accuracy: 0.7989\n",
            "Epoch 15/100\n",
            "23/23 [==============================] - 0s 9ms/step - loss: 0.4257 - accuracy: 0.8132 - val_loss: 0.4267 - val_accuracy: 0.7989\n",
            "Epoch 16/100\n",
            "23/23 [==============================] - 0s 6ms/step - loss: 0.4233 - accuracy: 0.8118 - val_loss: 0.4174 - val_accuracy: 0.7989\n",
            "Epoch 17/100\n",
            "23/23 [==============================] - 0s 10ms/step - loss: 0.4203 - accuracy: 0.8146 - val_loss: 0.4217 - val_accuracy: 0.8101\n",
            "Epoch 18/100\n",
            "23/23 [==============================] - 0s 12ms/step - loss: 0.4203 - accuracy: 0.8118 - val_loss: 0.4192 - val_accuracy: 0.8045\n",
            "Epoch 19/100\n",
            "23/23 [==============================] - 0s 8ms/step - loss: 0.4244 - accuracy: 0.8076 - val_loss: 0.4267 - val_accuracy: 0.8045\n",
            "Epoch 20/100\n",
            "23/23 [==============================] - 0s 9ms/step - loss: 0.4196 - accuracy: 0.8202 - val_loss: 0.4168 - val_accuracy: 0.8101\n",
            "Epoch 21/100\n",
            "23/23 [==============================] - 0s 6ms/step - loss: 0.4125 - accuracy: 0.8188 - val_loss: 0.4162 - val_accuracy: 0.8156\n",
            "Epoch 22/100\n",
            "23/23 [==============================] - 0s 7ms/step - loss: 0.4150 - accuracy: 0.8132 - val_loss: 0.4203 - val_accuracy: 0.8101\n",
            "Epoch 23/100\n",
            "23/23 [==============================] - 0s 12ms/step - loss: 0.4122 - accuracy: 0.8104 - val_loss: 0.4129 - val_accuracy: 0.8101\n",
            "Epoch 24/100\n",
            "23/23 [==============================] - 0s 10ms/step - loss: 0.4101 - accuracy: 0.8118 - val_loss: 0.4275 - val_accuracy: 0.8101\n",
            "Epoch 25/100\n",
            "23/23 [==============================] - 0s 20ms/step - loss: 0.4156 - accuracy: 0.8216 - val_loss: 0.4158 - val_accuracy: 0.8156\n",
            "Epoch 26/100\n",
            "23/23 [==============================] - 0s 11ms/step - loss: 0.4107 - accuracy: 0.8357 - val_loss: 0.4097 - val_accuracy: 0.8045\n",
            "Epoch 27/100\n",
            "23/23 [==============================] - 0s 8ms/step - loss: 0.4091 - accuracy: 0.8244 - val_loss: 0.4263 - val_accuracy: 0.8101\n",
            "Epoch 28/100\n",
            "23/23 [==============================] - 0s 4ms/step - loss: 0.4090 - accuracy: 0.8216 - val_loss: 0.4160 - val_accuracy: 0.8156\n",
            "Epoch 29/100\n",
            "23/23 [==============================] - 0s 4ms/step - loss: 0.4107 - accuracy: 0.8202 - val_loss: 0.4161 - val_accuracy: 0.8101\n",
            "Epoch 30/100\n",
            "23/23 [==============================] - 0s 5ms/step - loss: 0.4061 - accuracy: 0.8230 - val_loss: 0.4144 - val_accuracy: 0.8268\n",
            "Epoch 31/100\n",
            "23/23 [==============================] - 0s 6ms/step - loss: 0.4094 - accuracy: 0.8104 - val_loss: 0.4228 - val_accuracy: 0.8212\n",
            "Epoch 32/100\n",
            "23/23 [==============================] - 0s 7ms/step - loss: 0.4055 - accuracy: 0.8202 - val_loss: 0.4136 - val_accuracy: 0.8101\n",
            "Epoch 33/100\n",
            "23/23 [==============================] - 0s 7ms/step - loss: 0.4023 - accuracy: 0.8329 - val_loss: 0.4115 - val_accuracy: 0.8156\n",
            "Epoch 34/100\n",
            "23/23 [==============================] - 0s 6ms/step - loss: 0.4022 - accuracy: 0.8301 - val_loss: 0.4119 - val_accuracy: 0.8212\n",
            "Epoch 35/100\n",
            "23/23 [==============================] - 0s 6ms/step - loss: 0.4002 - accuracy: 0.8371 - val_loss: 0.4102 - val_accuracy: 0.8156\n",
            "Epoch 36/100\n",
            "21/23 [==========================>...] - ETA: 0s - loss: 0.3967 - accuracy: 0.8363\n",
            "Loss is to low so stop training.\n",
            "23/23 [==============================] - 0s 5ms/step - loss: 0.3998 - accuracy: 0.8343 - val_loss: 0.4109 - val_accuracy: 0.8156\n"
          ]
        },
        {
          "data": {
            "text/plain": [
              "<keras.src.callbacks.History at 0x7b28403bc4c0>"
            ]
          },
          "execution_count": 57,
          "metadata": {},
          "output_type": "execute_result"
        }
      ],
      "source": [
        "# Xây dựng kiến trúc mạng FFNN\n",
        "model = Sequential()\n",
        "model.add(Dense(64, activation='relu'))\n",
        "model.add(Dense(32, activation='relu'))\n",
        "model.add(Dense(1, activation='sigmoid'))  # Sử dụng 'sigmoid' vì đây là bài toán phân loại nhị phân\n",
        "\n",
        "# Compile và huấn luyện\n",
        "model.compile(optimizer='adam', loss='binary_crossentropy', metrics=['accuracy'])\n",
        "model.fit(X_train, y_train, epochs=100, batch_size=32\n",
        "          ,validation_data=(X_test, y_test), callbacks = [callback])"
      ]
    },
    {
      "cell_type": "code",
      "execution_count": 58,
      "metadata": {
        "colab": {
          "base_uri": "https://localhost:8080/"
        },
        "id": "EXmBn916D8qF",
        "outputId": "d2ff28fa-f2fa-44b1-ebc3-2a9646e098c1"
      },
      "outputs": [
        {
          "name": "stdout",
          "output_type": "stream",
          "text": [
            "6/6 [==============================] - 0s 3ms/step - loss: 0.4109 - accuracy: 0.8156\n",
            "Accuracy on test set: 81.56%\n"
          ]
        }
      ],
      "source": [
        "loss, accuracy = model.evaluate(X_test, y_test)\n",
        "print(f'Accuracy on test set: {accuracy * 100:.2f}%')"
      ]
    },
    {
      "cell_type": "markdown",
      "metadata": {
        "id": "jDJH58hkD9hD"
      },
      "source": [
        "### RNN"
      ]
    },
    {
      "cell_type": "code",
      "execution_count": 61,
      "metadata": {
        "colab": {
          "base_uri": "https://localhost:8080/"
        },
        "id": "yHO_HL1KEN6m",
        "outputId": "6ce28ee4-43f3-4ad2-f7db-95db8ba16533"
      },
      "outputs": [
        {
          "name": "stdout",
          "output_type": "stream",
          "text": [
            "Epoch 1/100\n",
            "23/23 [==============================] - 5s 53ms/step - loss: 0.6601 - accuracy: 0.7022 - val_loss: 0.6252 - val_accuracy: 0.7821\n",
            "Epoch 2/100\n",
            "23/23 [==============================] - 0s 8ms/step - loss: 0.5903 - accuracy: 0.7992 - val_loss: 0.5431 - val_accuracy: 0.7877\n",
            "Epoch 3/100\n",
            "23/23 [==============================] - 0s 7ms/step - loss: 0.5167 - accuracy: 0.8062 - val_loss: 0.4809 - val_accuracy: 0.7821\n",
            "Epoch 4/100\n",
            "23/23 [==============================] - 0s 8ms/step - loss: 0.4758 - accuracy: 0.7935 - val_loss: 0.4447 - val_accuracy: 0.7765\n",
            "Epoch 5/100\n",
            "23/23 [==============================] - 0s 10ms/step - loss: 0.4512 - accuracy: 0.8020 - val_loss: 0.4280 - val_accuracy: 0.8045\n",
            "Epoch 6/100\n",
            "23/23 [==============================] - 0s 7ms/step - loss: 0.4360 - accuracy: 0.8104 - val_loss: 0.4200 - val_accuracy: 0.7989\n",
            "Epoch 7/100\n",
            "23/23 [==============================] - 0s 8ms/step - loss: 0.4293 - accuracy: 0.8090 - val_loss: 0.4133 - val_accuracy: 0.7989\n",
            "Epoch 8/100\n",
            "23/23 [==============================] - 0s 7ms/step - loss: 0.4305 - accuracy: 0.8076 - val_loss: 0.4159 - val_accuracy: 0.7989\n",
            "Epoch 9/100\n",
            "23/23 [==============================] - 0s 8ms/step - loss: 0.4278 - accuracy: 0.8146 - val_loss: 0.4142 - val_accuracy: 0.7933\n",
            "Epoch 10/100\n",
            "23/23 [==============================] - 0s 8ms/step - loss: 0.4223 - accuracy: 0.8118 - val_loss: 0.4156 - val_accuracy: 0.7989\n",
            "Epoch 11/100\n",
            "23/23 [==============================] - 0s 8ms/step - loss: 0.4246 - accuracy: 0.8132 - val_loss: 0.4123 - val_accuracy: 0.8045\n",
            "Epoch 12/100\n",
            "23/23 [==============================] - 0s 9ms/step - loss: 0.4199 - accuracy: 0.8160 - val_loss: 0.4153 - val_accuracy: 0.8101\n",
            "Epoch 13/100\n",
            "23/23 [==============================] - 0s 8ms/step - loss: 0.4181 - accuracy: 0.8104 - val_loss: 0.4149 - val_accuracy: 0.8101\n",
            "Epoch 14/100\n",
            "23/23 [==============================] - 0s 8ms/step - loss: 0.4194 - accuracy: 0.8132 - val_loss: 0.4174 - val_accuracy: 0.8045\n",
            "Epoch 15/100\n",
            "23/23 [==============================] - 0s 11ms/step - loss: 0.4181 - accuracy: 0.8104 - val_loss: 0.4161 - val_accuracy: 0.8045\n",
            "Epoch 16/100\n",
            "23/23 [==============================] - 0s 8ms/step - loss: 0.4107 - accuracy: 0.8216 - val_loss: 0.4180 - val_accuracy: 0.8045\n",
            "Epoch 17/100\n",
            "23/23 [==============================] - 0s 9ms/step - loss: 0.4136 - accuracy: 0.8244 - val_loss: 0.4180 - val_accuracy: 0.8101\n",
            "Epoch 18/100\n",
            "23/23 [==============================] - 0s 8ms/step - loss: 0.4109 - accuracy: 0.8301 - val_loss: 0.4177 - val_accuracy: 0.8045\n",
            "Epoch 19/100\n",
            "23/23 [==============================] - 0s 8ms/step - loss: 0.4100 - accuracy: 0.8301 - val_loss: 0.4211 - val_accuracy: 0.8156\n",
            "Epoch 20/100\n",
            "23/23 [==============================] - 0s 7ms/step - loss: 0.4112 - accuracy: 0.8258 - val_loss: 0.4258 - val_accuracy: 0.8045\n",
            "Epoch 21/100\n",
            "23/23 [==============================] - 0s 6ms/step - loss: 0.4043 - accuracy: 0.8301 - val_loss: 0.4219 - val_accuracy: 0.8156\n",
            "Epoch 22/100\n",
            "23/23 [==============================] - 0s 6ms/step - loss: 0.4044 - accuracy: 0.8371 - val_loss: 0.4214 - val_accuracy: 0.8156\n",
            "Epoch 23/100\n",
            "23/23 [==============================] - 0s 6ms/step - loss: 0.4064 - accuracy: 0.8329 - val_loss: 0.4220 - val_accuracy: 0.8156\n",
            "Epoch 24/100\n",
            "23/23 [==============================] - 0s 5ms/step - loss: 0.4080 - accuracy: 0.8244 - val_loss: 0.4253 - val_accuracy: 0.8156\n",
            "Epoch 25/100\n",
            "16/23 [===================>..........] - ETA: 0s - loss: 0.4091 - accuracy: 0.8398\n",
            "Loss is to low so stop training.\n",
            "23/23 [==============================] - 0s 6ms/step - loss: 0.3989 - accuracy: 0.8441 - val_loss: 0.4259 - val_accuracy: 0.8212\n"
          ]
        },
        {
          "data": {
            "text/plain": [
              "<keras.src.callbacks.History at 0x7b282ecf3010>"
            ]
          },
          "execution_count": 61,
          "metadata": {},
          "output_type": "execute_result"
        }
      ],
      "source": [
        "# Xây dựng lại kiến trúc mạng RNN\n",
        "model = Sequential()\n",
        "model.add(LSTM(64, input_shape=(1, X_train_rnn.shape[2])))\n",
        "model.add(Dropout(0.2))\n",
        "model.add(Dense(32, activation='relu'))\n",
        "model.add(Dense(1, activation='sigmoid'))\n",
        "\n",
        "# Compile và huấn luyện\n",
        "model.compile(loss='binary_crossentropy', optimizer='adam', metrics=['accuracy'])\n",
        "# Thêm callback vào quá trình huấn luyện\n",
        "model.fit(X_train_rnn, y_train, epochs=100,\n",
        "          validation_data=(X_test_rnn, y_test), callbacks = [callback])"
      ]
    },
    {
      "cell_type": "code",
      "execution_count": 62,
      "metadata": {
        "colab": {
          "base_uri": "https://localhost:8080/"
        },
        "id": "rSl4fvuHEOY0",
        "outputId": "bfd1561b-b0da-4d86-c9fe-cf4f81255cc1"
      },
      "outputs": [
        {
          "name": "stdout",
          "output_type": "stream",
          "text": [
            "6/6 [==============================] - 0s 8ms/step - loss: 0.4259 - accuracy: 0.8212\n",
            "Accuracy on test set: 82.12%\n"
          ]
        }
      ],
      "source": [
        "loss, accuracy = model.evaluate(X_test_rnn, y_test)\n",
        "print(f'Accuracy on test set: {accuracy * 100:.2f}%')"
      ]
    },
    {
      "cell_type": "markdown",
      "metadata": {
        "id": "FIZzzHmwjDyD"
      },
      "source": [
        "# Cải thiện độ chính xác\n",
        "\n",
        "Các trường hợp sai có thể là do các nguyên nhân:\n",
        "* Mô hình chưa đủ phức tạp để học hết tất cả các quy luật trong dữ liệu.\n",
        "* Các tham số chưa được tối ưu.\n",
        "* Xử lý dữ liệu chưa tốt.\n",
        "\n",
        "Các giải pháp đề ra:\n",
        "* Sử dụng Cross-validation\n",
        "* Tinh chỉnh lại tham số\n",
        "* Sử dụng các mô hình học máy khác\n",
        "* Xem xét lại việc xử lý dữ liệu\n",
        "* Tăng số layer cho mô hình NN\n"
      ]
    },
    {
      "cell_type": "markdown",
      "metadata": {
        "id": "BZng8ThQ-ZIP"
      },
      "source": [
        "## Sử dụng mô hình khác: Logistic Regression"
      ]
    },
    {
      "cell_type": "code",
      "execution_count": 63,
      "metadata": {
        "colab": {
          "base_uri": "https://localhost:8080/",
          "height": 663
        },
        "id": "OmYCtmr8jFqM",
        "outputId": "99773163-3590-4313-911b-e029b6e07fe6"
      },
      "outputs": [
        {
          "name": "stdout",
          "output_type": "stream",
          "text": [
            "Accuracy of Logistic Regression: 0.7932960893854749\n",
            "Classification report:\n",
            "               precision    recall  f1-score   support\n",
            "\n",
            "           0       0.81      0.84      0.83       105\n",
            "           1       0.76      0.73      0.74        74\n",
            "\n",
            "    accuracy                           0.79       179\n",
            "   macro avg       0.79      0.78      0.79       179\n",
            "weighted avg       0.79      0.79      0.79       179\n",
            "\n"
          ]
        },
        {
          "data": {
            "image/png": "[encoded data removed]",
            "text/plain": [
              "<Figure size 640x480 with 2 Axes>"
            ]
          },
          "metadata": {},
          "output_type": "display_data"
        }
      ],
      "source": [
        "from sklearn import metrics\n",
        "from sklearn.metrics import confusion_matrix\n",
        "# Logistic Regression\n",
        "\n",
        "logreg = LogisticRegression()\n",
        "logreg.fit(X_train, y_train)\n",
        "\n",
        "y_pred = logreg.predict(X_test)\n",
        "\n",
        "print(\"Accuracy of Logistic Regression:\", metrics.accuracy_score(y_test, y_pred))\n",
        "\n",
        "print(\"Classification report:\\n\", classification_report(y_test, y_pred))\n",
        "\n",
        "# Vẽ confusion matrix\n",
        "cf_matrix = confusion_matrix(y_test, y_pred)\n",
        "categories  = ['Survived', 'Not Survived']\n",
        "sns.heatmap(cf_matrix, xticklabels=categories, yticklabels=categories, annot=True, fmt=\"d\");\n",
        "plt.title(\"Confusion matrix\")\n",
        "plt.ylabel('True class')\n",
        "plt.xlabel('Predicted class')\n",
        "plt.show()"
      ]
    },
    {
      "cell_type": "markdown",
      "metadata": {
        "id": "uxwg1TIPbE3U"
      },
      "source": [
        "Nhận xét: Khi sử dụng mô hình Logistic Regression kết quả accuracy là 79.33%. Kết quả này khi với các mô hình trên, nó cao hơn so với Naive Bayes, Decision Tree, K Nearest Neighbors."
      ]
    },
    {
      "cell_type": "markdown",
      "metadata": {
        "id": "hut6vnHOpc3-"
      },
      "source": [
        "## Tinh tỉnh lại tham số của mô hình K-NN"
      ]
    },
    {
      "cell_type": "code",
      "execution_count": 64,
      "metadata": {
        "colab": {
          "base_uri": "https://localhost:8080/"
        },
        "id": "hJH-aiZ3oHJk",
        "outputId": "401085e7-3c61-4beb-e7ef-35152903cc7d"
      },
      "outputs": [
        {
          "name": "stdout",
          "output_type": "stream",
          "text": [
            "Best params: {'n_neighbors': 13}\n",
            "Best score: 0.8089530188121736\n",
            "Accuracy: 79.89%\n"
          ]
        }
      ],
      "source": [
        "# Sử dụng GridSearch\n",
        "from sklearn.model_selection import GridSearchCV\n",
        "\n",
        "knn = KNeighborsClassifier()\n",
        "# Cho n chạy từ 1 -> 20\n",
        "param_grid = {'n_neighbors': np.arange(1, 20)}\n",
        "# Cho cv = 5\n",
        "knn_gscv = GridSearchCV(knn, param_grid, cv=5)\n",
        "knn_gscv.fit(X_train, y_train)\n",
        "# Tìm ra n và score tốt nhất\n",
        "print(\"Best params:\", knn_gscv.best_params_)\n",
        "print(\"Best score:\", knn_gscv.best_score_)\n",
        "\n",
        "best_model = knn_gscv.best_estimator_\n",
        "accuracy = best_model.score(X_test, y_test)\n",
        "print(f'Accuracy: {accuracy * 100:.2f}%')"
      ]
    },
    {
      "cell_type": "markdown",
      "metadata": {
        "id": "QVfCAAOyqXnd"
      },
      "source": [
        "Nhận xét: Sau khi áp dụng GridSearch để tìm ra n tốt nhất thì kết quả là 79.89%. So với mô hình K-NN ban đầu thì độ chính xác đã được cải thiện."
      ]
    },
    {
      "cell_type": "markdown",
      "metadata": {
        "id": "jV6TgG_0tIGx"
      },
      "source": [
        "## Tinh tỉnh lại tham số của mô hình SVM\n",
        "\n"
      ]
    },
    {
      "cell_type": "code",
      "execution_count": 65,
      "metadata": {
        "colab": {
          "base_uri": "https://localhost:8080/"
        },
        "id": "9nARO1cRtHIr",
        "outputId": "2815fcb2-e75e-49ca-c736-931b37a0ad14"
      },
      "outputs": [
        {
          "name": "stdout",
          "output_type": "stream",
          "text": [
            "C tốt nhất: 0.1\n"
          ]
        }
      ],
      "source": [
        "# Danh sách các giá trị C thử nghiệm\n",
        "C_values = [0.1, 1, 10, 100]\n",
        "\n",
        "#Tìm giá trị tốt nhất cho C\n",
        "param_grid = {'C': C_values}\n",
        "grid_search_SVM = GridSearchCV(svm.SVC(kernel='sigmoid'), param_grid, cv=5, scoring='accuracy')\n",
        "grid_search_SVM.fit(X_train, y_train)\n",
        "\n",
        "# Lấy giá trị tốt nhất cho tham số C\n",
        "best_C_SVM = grid_search_SVM.best_params_['C']\n",
        "print(\"C tốt nhất:\", best_C_SVM)"
      ]
    },
    {
      "cell_type": "code",
      "execution_count": 66,
      "metadata": {
        "colab": {
          "base_uri": "https://localhost:8080/"
        },
        "id": "orlLm6lBBq_u",
        "outputId": "83566664-7e50-454c-a1b5-30df84dd6fb5"
      },
      "outputs": [
        {
          "name": "stdout",
          "output_type": "stream",
          "text": [
            "Best Support Vector Machines Accuracy: 73.74%\n",
            "              precision    recall  f1-score   support\n",
            "\n",
            "           0       0.80      0.73      0.77       105\n",
            "           1       0.66      0.74      0.70        74\n",
            "\n",
            "    accuracy                           0.74       179\n",
            "   macro avg       0.73      0.74      0.73       179\n",
            "weighted avg       0.74      0.74      0.74       179\n",
            "\n"
          ]
        }
      ],
      "source": [
        "# Huấn luyện mô hình với C tốt nhất\n",
        "best_model_SVM = svm.SVC(kernel='sigmoid', C=best_C_SVM)\n",
        "best_model_SVM.fit(X_train, y_train)\n",
        "\n",
        "y_pred_best_SVM = best_model_SVM.predict(X_test)\n",
        "accuracy_best_SVM = accuracy_score(y_test, y_pred_best_SVM)\n",
        "\n",
        "print(\"Best Support Vector Machines Accuracy: %.2f%%\" % (accuracy_best_SVM * 100.0))\n",
        "print(classification_report(y_test, y_pred_best_SVM))"
      ]
    },
    {
      "cell_type": "code",
      "execution_count": 67,
      "metadata": {
        "colab": {
          "base_uri": "https://localhost:8080/",
          "height": 472
        },
        "id": "QRF-JRSGvnmw",
        "outputId": "d9c722c1-f943-44b2-cfd0-5de3e66a11e3"
      },
      "outputs": [
        {
          "data": {
            "image/png": "[encoded data removed]",
            "text/plain": [
              "<Figure size 640x480 with 2 Axes>"
            ]
          },
          "metadata": {},
          "output_type": "display_data"
        }
      ],
      "source": [
        "# Vẽ confusion matrix\n",
        "cf_matrix = confusion_matrix(y_test, y_pred_best_SVM)\n",
        "categories  = ['Survived', 'Not Survived']\n",
        "sns.heatmap(cf_matrix, xticklabels=categories, yticklabels=categories, annot=True, fmt=\"d\");\n",
        "plt.title(\"Confusion matrix\")\n",
        "plt.ylabel('True class')\n",
        "plt.xlabel('Predicted class')\n",
        "plt.show()"
      ]
    },
    {
      "cell_type": "markdown",
      "metadata": {
        "id": "GTzgxb9hvzhn"
      },
      "source": [
        "Nhận xét: Sau khi tìm được C tốt nhất cho mô hình SVM thì độ chính xác đã được cải thiện rõ rệt. Từ 59.78% tăng lên 73.74%."
      ]
    },
    {
      "cell_type": "markdown",
      "metadata": {
        "id": "Ay4UcXkz6s8t"
      },
      "source": [
        "## Sử dụng Cross-validation"
      ]
    },
    {
      "cell_type": "code",
      "execution_count": 68,
      "metadata": {
        "colab": {
          "base_uri": "https://localhost:8080/"
        },
        "id": "jG7MyQgI5qGg",
        "outputId": "1f4b66f6-f187-47e1-f744-d2570bd1ba38"
      },
      "outputs": [
        {
          "name": "stdout",
          "output_type": "stream",
          "text": [
            "Accuracy scores: [0.84444444 0.82022472 0.76404494 0.7752809  0.82022472 0.82022472\n",
            " 0.78651685 0.82022472 0.79775281 0.85393258]\n",
            "Mean accuracy: 0.810287141073658\n"
          ]
        }
      ],
      "source": [
        "#Sử dụng Cross-validation cho mô hình Random Forest\n",
        "from sklearn.model_selection import cross_val_score\n",
        "from sklearn.model_selection import KFold\n",
        "from sklearn.model_selection import StratifiedKFold\n",
        "\n",
        "# Khởi tạo model\n",
        "model_RF_best = RandomForestClassifier(n_estimators=100, random_state=42)\n",
        "# Khởi tạo KFold với số fold là 10\n",
        "cv = KFold(n_splits=10, random_state=42, shuffle=True)\n",
        "# Thực hiện cross-validation\n",
        "scores = cross_val_score(model_RF_best, X, y, cv=cv)\n",
        "# In ra kết quả\n",
        "print(f'Accuracy scores: {scores}')\n",
        "print(f'Mean accuracy: {scores.mean()}')"
      ]
    },
    {
      "cell_type": "code",
      "execution_count": 69,
      "metadata": {
        "colab": {
          "base_uri": "https://localhost:8080/"
        },
        "id": "UyXsRIByCpK6",
        "outputId": "ec023664-a4db-49d8-b7cc-7a8efd2dff0e"
      },
      "outputs": [
        {
          "name": "stdout",
          "output_type": "stream",
          "text": [
            "Random Forest Accurary: 81.56%\n",
            "              precision    recall  f1-score   support\n",
            "\n",
            "           0       0.83      0.87      0.85       105\n",
            "           1       0.80      0.74      0.77        74\n",
            "\n",
            "    accuracy                           0.82       179\n",
            "   macro avg       0.81      0.80      0.81       179\n",
            "weighted avg       0.81      0.82      0.81       179\n",
            "\n"
          ]
        }
      ],
      "source": [
        "#huân luyện mô hình với tập dữ liệu train\n",
        "model_RF_best.fit(X_train, y_train)\n",
        "# Dự đoán kết quả với dữ liệu test\n",
        "y_pred_RF_best = model_RF_best.predict(X_test)\n",
        "# Tính độ chính xác\n",
        "accuracy_RF_best = accuracy_score(y_test, y_pred_RF_best)\n",
        "print(\"Random Forest Accurary: %.2f%%\" % (accuracy_RF_best * 100.0))\n",
        "# model evaluation ( đánh giá model)\n",
        "print(classification_report(y_test,y_pred_RF_best))"
      ]
    },
    {
      "cell_type": "markdown",
      "metadata": {
        "id": "2lkGtGWFEu9n"
      },
      "source": [
        "Nhận xét:Sau khi áp dụng Cross-validation vào mô hình Random Forest thì kết quả độ chính xác nhận được vẫn không thay đổi so với mô hình ban đầu."
      ]
    },
    {
      "cell_type": "markdown",
      "metadata": {
        "id": "IOQwvEiKG9L1"
      },
      "source": [
        "## Tăng số layer cho các mô hình NN"
      ]
    },
    {
      "cell_type": "markdown",
      "metadata": {
        "id": "Pj4enqfAJeT2"
      },
      "source": [
        "### FFNN"
      ]
    },
    {
      "cell_type": "code",
      "execution_count": 70,
      "metadata": {
        "colab": {
          "base_uri": "https://localhost:8080/"
        },
        "id": "MGajFMSBHB23",
        "outputId": "4af6e17a-357b-4f09-c30f-363ed9291ba2"
      },
      "outputs": [
        {
          "name": "stdout",
          "output_type": "stream",
          "text": [
            "Epoch 1/10\n",
            "23/23 [==============================] - 1s 12ms/step - loss: 0.6115 - accuracy: 0.7233 - val_loss: 0.5543 - val_accuracy: 0.7598\n",
            "Epoch 2/10\n",
            "23/23 [==============================] - 0s 5ms/step - loss: 0.5197 - accuracy: 0.7823 - val_loss: 0.4719 - val_accuracy: 0.7709\n",
            "Epoch 3/10\n",
            "23/23 [==============================] - 0s 4ms/step - loss: 0.4687 - accuracy: 0.7907 - val_loss: 0.4406 - val_accuracy: 0.7877\n",
            "Epoch 4/10\n",
            "23/23 [==============================] - 0s 4ms/step - loss: 0.4548 - accuracy: 0.7907 - val_loss: 0.4345 - val_accuracy: 0.7821\n",
            "Epoch 5/10\n",
            "23/23 [==============================] - 0s 4ms/step - loss: 0.4456 - accuracy: 0.8006 - val_loss: 0.4317 - val_accuracy: 0.8045\n",
            "Epoch 6/10\n",
            "23/23 [==============================] - 0s 4ms/step - loss: 0.4385 - accuracy: 0.8118 - val_loss: 0.4293 - val_accuracy: 0.7877\n",
            "Epoch 7/10\n",
            "23/23 [==============================] - 0s 4ms/step - loss: 0.4371 - accuracy: 0.8076 - val_loss: 0.4231 - val_accuracy: 0.8101\n",
            "Epoch 8/10\n",
            "23/23 [==============================] - 0s 5ms/step - loss: 0.4340 - accuracy: 0.8146 - val_loss: 0.4270 - val_accuracy: 0.7933\n",
            "Epoch 9/10\n",
            "23/23 [==============================] - 0s 7ms/step - loss: 0.4313 - accuracy: 0.8062 - val_loss: 0.4203 - val_accuracy: 0.7989\n",
            "Epoch 10/10\n",
            "23/23 [==============================] - 0s 6ms/step - loss: 0.4271 - accuracy: 0.8160 - val_loss: 0.4235 - val_accuracy: 0.7989\n"
          ]
        },
        {
          "data": {
            "text/plain": [
              "<keras.src.callbacks.History at 0x7b282d7c47c0>"
            ]
          },
          "execution_count": 70,
          "metadata": {},
          "output_type": "execute_result"
        }
      ],
      "source": [
        "from tensorflow.keras.models import Sequential\n",
        "from tensorflow.keras.layers import Dense\n",
        "\n",
        "# Xây dựng mô hình với 3 lớp Dense\n",
        "model_ffnn = Sequential()\n",
        "model_ffnn.add(Dense(64, activation='relu'))\n",
        "model_ffnn.add(Dense(32, activation='relu'))\n",
        "model_ffnn.add(Dense(16, activation='relu'))  # Thêm một lớp mới với 16 đơn vị ẩn\n",
        "model_ffnn.add(Dense(1, activation='sigmoid'))\n",
        "\n",
        "# Compile và huấn luyện\n",
        "model_ffnn.compile(optimizer='adam', loss='binary_crossentropy', metrics=['accuracy'])\n",
        "model_ffnn.fit(X_train, y_train, epochs=10, batch_size=32, validation_data=(X_test, y_test))\n"
      ]
    },
    {
      "cell_type": "code",
      "execution_count": 71,
      "metadata": {
        "colab": {
          "base_uri": "https://localhost:8080/"
        },
        "id": "l1Gbeg76HiGT",
        "outputId": "8a7588c5-be56-4e43-9c6e-bd7f827363b9"
      },
      "outputs": [
        {
          "name": "stdout",
          "output_type": "stream",
          "text": [
            "Model: \"sequential_8\"\n",
            "_________________________________________________________________\n",
            " Layer (type)                Output Shape              Param #   \n",
            "=================================================================\n",
            " dense_16 (Dense)            (None, 64)                704       \n",
            "                                                                 \n",
            " dense_17 (Dense)            (None, 32)                2080      \n",
            "                                                                 \n",
            " dense_18 (Dense)            (None, 16)                528       \n",
            "                                                                 \n",
            " dense_19 (Dense)            (None, 1)                 17        \n",
            "                                                                 \n",
            "=================================================================\n",
            "Total params: 3329 (13.00 KB)\n",
            "Trainable params: 3329 (13.00 KB)\n",
            "Non-trainable params: 0 (0.00 Byte)\n",
            "_________________________________________________________________\n"
          ]
        }
      ],
      "source": [
        "model_ffnn.build()\n",
        "model_ffnn.summary()"
      ]
    },
    {
      "cell_type": "code",
      "execution_count": 72,
      "metadata": {
        "colab": {
          "base_uri": "https://localhost:8080/"
        },
        "id": "rCL8G51vHoP0",
        "outputId": "964b9cc0-52b5-418c-b541-845b5a246166"
      },
      "outputs": [
        {
          "name": "stdout",
          "output_type": "stream",
          "text": [
            "6/6 [==============================] - 0s 4ms/step - loss: 0.4235 - accuracy: 0.7989\n",
            "Accuracy on test set: 79.89%\n"
          ]
        }
      ],
      "source": [
        "# Đánh giá mô hình trên tập kiểm tra và in ra kết quả\n",
        "loss, accuracy = model_ffnn.evaluate(X_test, y_test)\n",
        "print(f'Accuracy on test set: {accuracy * 100:.2f}%')"
      ]
    },
    {
      "cell_type": "markdown",
      "metadata": {
        "id": "PwdIwY-SIAIG"
      },
      "source": [
        "Sau khi thêm 1 layer mới cho mô hình FFNN thì độ chính xác là 79.89%"
      ]
    },
    {
      "cell_type": "markdown",
      "metadata": {
        "id": "G8wjkjq_JjF0"
      },
      "source": [
        "### RNN"
      ]
    },
    {
      "cell_type": "code",
      "execution_count": 73,
      "metadata": {
        "colab": {
          "base_uri": "https://localhost:8080/"
        },
        "id": "5zL-PfISIgNC",
        "outputId": "0534c18d-c091-44d7-e8f7-c4b7fe13befd"
      },
      "outputs": [
        {
          "name": "stdout",
          "output_type": "stream",
          "text": [
            "Epoch 1/20\n",
            "23/23 [==============================] - 6s 48ms/step - loss: 0.6817 - accuracy: 0.7289 - val_loss: 0.6645 - val_accuracy: 0.7709\n",
            "Epoch 2/20\n",
            "23/23 [==============================] - 0s 8ms/step - loss: 0.6390 - accuracy: 0.8132 - val_loss: 0.5981 - val_accuracy: 0.7877\n",
            "Epoch 3/20\n",
            "23/23 [==============================] - 0s 7ms/step - loss: 0.5506 - accuracy: 0.8006 - val_loss: 0.4924 - val_accuracy: 0.7765\n",
            "Epoch 4/20\n",
            "23/23 [==============================] - 0s 8ms/step - loss: 0.4725 - accuracy: 0.7865 - val_loss: 0.4416 - val_accuracy: 0.7821\n",
            "Epoch 5/20\n",
            "23/23 [==============================] - 0s 7ms/step - loss: 0.4487 - accuracy: 0.8034 - val_loss: 0.4262 - val_accuracy: 0.7933\n",
            "Epoch 6/20\n",
            "23/23 [==============================] - 0s 7ms/step - loss: 0.4324 - accuracy: 0.8146 - val_loss: 0.4216 - val_accuracy: 0.7989\n",
            "Epoch 7/20\n",
            "23/23 [==============================] - 0s 8ms/step - loss: 0.4299 - accuracy: 0.8090 - val_loss: 0.4182 - val_accuracy: 0.8101\n",
            "Epoch 8/20\n",
            "23/23 [==============================] - 0s 8ms/step - loss: 0.4317 - accuracy: 0.8118 - val_loss: 0.4231 - val_accuracy: 0.8101\n",
            "Epoch 9/20\n",
            "23/23 [==============================] - 0s 8ms/step - loss: 0.4277 - accuracy: 0.8076 - val_loss: 0.4194 - val_accuracy: 0.8212\n",
            "Epoch 10/20\n",
            "23/23 [==============================] - 0s 7ms/step - loss: 0.4246 - accuracy: 0.8160 - val_loss: 0.4196 - val_accuracy: 0.8045\n",
            "Epoch 11/20\n",
            "23/23 [==============================] - 0s 8ms/step - loss: 0.4212 - accuracy: 0.8188 - val_loss: 0.4243 - val_accuracy: 0.8045\n",
            "Epoch 12/20\n",
            "23/23 [==============================] - 0s 7ms/step - loss: 0.4226 - accuracy: 0.8104 - val_loss: 0.4259 - val_accuracy: 0.8101\n",
            "Epoch 13/20\n",
            "23/23 [==============================] - 0s 8ms/step - loss: 0.4157 - accuracy: 0.8174 - val_loss: 0.4242 - val_accuracy: 0.8101\n",
            "Epoch 14/20\n",
            "23/23 [==============================] - 0s 7ms/step - loss: 0.4153 - accuracy: 0.8160 - val_loss: 0.4262 - val_accuracy: 0.8156\n",
            "Epoch 15/20\n",
            "23/23 [==============================] - 0s 7ms/step - loss: 0.4129 - accuracy: 0.8216 - val_loss: 0.4275 - val_accuracy: 0.8212\n",
            "Epoch 16/20\n",
            "23/23 [==============================] - 0s 8ms/step - loss: 0.4203 - accuracy: 0.8132 - val_loss: 0.4275 - val_accuracy: 0.8156\n",
            "Epoch 17/20\n",
            "23/23 [==============================] - 0s 8ms/step - loss: 0.4114 - accuracy: 0.8174 - val_loss: 0.4272 - val_accuracy: 0.8156\n",
            "Epoch 18/20\n",
            "23/23 [==============================] - 0s 8ms/step - loss: 0.4105 - accuracy: 0.8287 - val_loss: 0.4280 - val_accuracy: 0.8156\n",
            "Epoch 19/20\n",
            "23/23 [==============================] - 0s 8ms/step - loss: 0.4128 - accuracy: 0.8202 - val_loss: 0.4313 - val_accuracy: 0.8101\n",
            "Epoch 20/20\n",
            "23/23 [==============================] - 0s 7ms/step - loss: 0.4191 - accuracy: 0.8301 - val_loss: 0.4288 - val_accuracy: 0.8268\n"
          ]
        },
        {
          "data": {
            "text/plain": [
              "<keras.src.callbacks.History at 0x7b2832132ad0>"
            ]
          },
          "execution_count": 73,
          "metadata": {},
          "output_type": "execute_result"
        }
      ],
      "source": [
        "from tensorflow.keras.layers import LSTM, Dropout\n",
        "\n",
        "# Xây dựng mô hình RNN với thêm một lớp LSTM và một lớp Dense\n",
        "model_rnn = Sequential()\n",
        "model_rnn.add(LSTM(64, input_shape=(1, X_train_rnn.shape[2]), return_sequences=True))\n",
        "model_rnn.add(Dropout(0.2))\n",
        "model_rnn.add(LSTM(32))  # Thêm một lớp LSTM mới\n",
        "model_rnn.add(Dropout(0.2))\n",
        "model_rnn.add(Dense(32, activation='relu'))\n",
        "model_rnn.add(Dense(1, activation='sigmoid'))\n",
        "\n",
        "# Compile và huấn luyện\n",
        "model_rnn.compile(loss='binary_crossentropy', optimizer='adam', metrics=['accuracy'])\n",
        "model_rnn.fit(X_train_rnn, y_train, epochs=20, validation_data=(X_test_rnn, y_test))\n"
      ]
    },
    {
      "cell_type": "code",
      "execution_count": 74,
      "metadata": {
        "colab": {
          "base_uri": "https://localhost:8080/"
        },
        "id": "N6dPdexJJXFB",
        "outputId": "0c2fe9b0-fa61-429a-de7a-fc1766d76a36"
      },
      "outputs": [
        {
          "name": "stdout",
          "output_type": "stream",
          "text": [
            "6/6 [==============================] - 0s 4ms/step - loss: 0.4288 - accuracy: 0.8268\n",
            "Accuracy on test set: 82.68%\n"
          ]
        }
      ],
      "source": [
        "loss, accuracy = model_rnn.evaluate(X_test_rnn, y_test)\n",
        "print(f'Accuracy on test set: {accuracy * 100:.2f}%')"
      ]
    },
    {
      "cell_type": "markdown",
      "metadata": {
        "id": "HxgJQXqmJnX5"
      },
      "source": [
        "Sau khi thêm 1 layer mới cho mô hình RNN thì độ chính xác đã được cải thiện tăng từ 81.01% lên 82.68%"
      ]
    },
    {
      "cell_type": "code",
      "execution_count": 74,
      "metadata": {
        "id": "CIMKN58w3l0Q"
      },
      "outputs": [],
      "source": []
    }
  ],
  "metadata": {
    "colab": {
      "provenance": [],
      "toc_visible": true
    },
    "kernelspec": {
      "display_name": "Python 3",
      "name": "python3"
    },
    "language_info": {
      "name": "python"
    }
  },
  "nbformat": 4,
  "nbformat_minor": 0
}
